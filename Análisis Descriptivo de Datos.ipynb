{
 "cells": [
  {
   "cell_type": "markdown",
   "metadata": {
    "colab_type": "text",
    "id": "SbAAa178dXPs"
   },
   "source": [
    "# Analizando datos\n",
    "Trabajaremos con un conjunto de evaluación de películas por usuarios de internet, del sitio [MovieLens](https://grouplens.org/datasets/movielens/). El sitio contiene varias versiones de estos datos. Existen versiones de 20 millones, 100 mil, 27 millones de notas (ratings) para películas. Usaremos un archivo que contiene 100 mil."
   ]
  },
  {
   "cell_type": "markdown",
   "metadata": {},
   "source": [
    "#### 1- Usando la librería ``pandas``, \n",
    "\n",
    "leer el archivo ``ratings.csv`` desde la siguiente [url](https://raw.githubusercontent.com/mruizolazar/DataScience-FPUNA/master/datos/ratings.csv) y asignar el contenido a una variable que llamaremos ``notas``, luego visualizar los primeros registros ``notas.head()``"
   ]
  },
  {
   "cell_type": "code",
   "execution_count": null,
   "metadata": {
    "colab": {
     "base_uri": "https://localhost:8080/",
     "height": 195
    },
    "colab_type": "code",
    "id": "Ii0yLBXCIimS",
    "outputId": "066a69b7-b493-4d6e-c73c-6df70d01bb0a"
   },
   "outputs": [],
   "source": []
  },
  {
   "cell_type": "markdown",
   "metadata": {},
   "source": [
    "#### 2- Visualizar la dimensión del DataFrame ``notas``"
   ]
  },
  {
   "cell_type": "code",
   "execution_count": null,
   "metadata": {
    "colab": {
     "base_uri": "https://localhost:8080/",
     "height": 34
    },
    "colab_type": "code",
    "id": "-q-QqlygKC_3",
    "outputId": "e6d3bfee-bbe8-47c1-dd6b-59df0c241637"
   },
   "outputs": [],
   "source": []
  },
  {
   "cell_type": "markdown",
   "metadata": {},
   "source": [
    "#### 3- Renombrar los nombres de las columnas como sigue:\n",
    "    userId => usuarioId\n",
    "    movieId => peliculaId\n",
    "    rating => nota\n",
    "    timestamp => momento"
   ]
  },
  {
   "cell_type": "code",
   "execution_count": null,
   "metadata": {
    "colab": {
     "base_uri": "https://localhost:8080/",
     "height": 195
    },
    "colab_type": "code",
    "id": "AFmLv5tcKkc8",
    "outputId": "efda4133-49e5-44b4-e202-a3538c2c0d88"
   },
   "outputs": [],
   "source": []
  },
  {
   "cell_type": "markdown",
   "metadata": {},
   "source": [
    "#### 4- Visualizar los valores de la columna ``nota`` de manera única (sin repeticiones)"
   ]
  },
  {
   "cell_type": "code",
   "execution_count": null,
   "metadata": {
    "colab": {
     "base_uri": "https://localhost:8080/",
     "height": 34
    },
    "colab_type": "code",
    "id": "IRYZeUA3LIVC",
    "outputId": "6b809076-b980-4eab-fdcf-afc2e8c18a83"
   },
   "outputs": [],
   "source": []
  },
  {
   "cell_type": "markdown",
   "metadata": {},
   "source": [
    "#### 5- Mostrar la cantidad de registros que corresponde a cada nota. Por ejemplo:\n",
    "\n",
    "    Nota Cantidad\n",
    "    4.0      26000\n",
    "    3.0      15000"
   ]
  },
  {
   "cell_type": "code",
   "execution_count": null,
   "metadata": {
    "colab": {
     "base_uri": "https://localhost:8080/",
     "height": 202
    },
    "colab_type": "code",
    "id": "t2axj7VxLV6W",
    "outputId": "20f85ae3-7c9f-4af3-d376-d384579d15d0"
   },
   "outputs": [],
   "source": []
  },
  {
   "cell_type": "markdown",
   "metadata": {},
   "source": [
    "#### 6- Mostrar la media y la mediana de los valores de la columna ``nota``"
   ]
  },
  {
   "cell_type": "code",
   "execution_count": null,
   "metadata": {
    "colab": {
     "base_uri": "https://localhost:8080/",
     "height": 50
    },
    "colab_type": "code",
    "id": "HNLTIYGNL7jn",
    "outputId": "27687007-7c7e-4eb2-f89c-ab1a2827d7c0"
   },
   "outputs": [],
   "source": []
  },
  {
   "cell_type": "markdown",
   "metadata": {},
   "source": [
    "## Explorar los datos de forma visual"
   ]
  },
  {
   "cell_type": "markdown",
   "metadata": {},
   "source": [
    "#### 7- Visualizar la distribución de datos de la columna ``nota``"
   ]
  },
  {
   "cell_type": "code",
   "execution_count": null,
   "metadata": {
    "scrolled": true
   },
   "outputs": [],
   "source": []
  },
  {
   "cell_type": "markdown",
   "metadata": {},
   "source": [
    "#### 8- Mostrar información de resumen estadístico de la columna ``nota`` en forma numérica"
   ]
  },
  {
   "cell_type": "code",
   "execution_count": null,
   "metadata": {
    "colab": {
     "base_uri": "https://localhost:8080/",
     "height": 168
    },
    "colab_type": "code",
    "id": "acefz1vhNRd9",
    "outputId": "10dad7c2-0460-4883-c94c-62c77a85f497"
   },
   "outputs": [],
   "source": []
  },
  {
   "cell_type": "markdown",
   "metadata": {},
   "source": [
    "#### 9- Mostrar información de resumen estadístico de la columna ``nota`` en forma visual (Gráfico BoxPlot)"
   ]
  },
  {
   "cell_type": "code",
   "execution_count": null,
   "metadata": {},
   "outputs": [],
   "source": []
  },
  {
   "cell_type": "markdown",
   "metadata": {},
   "source": [
    "#### 10- ¿Qué información puede extraer del resumen numérico y visual?"
   ]
  },
  {
   "cell_type": "code",
   "execution_count": null,
   "metadata": {},
   "outputs": [],
   "source": []
  },
  {
   "cell_type": "markdown",
   "metadata": {
    "colab_type": "text",
    "id": "Bl3_iDn4daKd"
   },
   "source": [
    "# Mirando las películas\n",
    "Estamos analizando y explorando los datos por medio de medidas descriptivas y visualizaciones. En estas sección analizaremos algunas películas desde el conjunto de datos ``movies.csv`` desde la siguiente [url](https://raw.githubusercontent.com/mruizolazar/DataScience-FPUNA/master/datos/movies.csv)."
   ]
  },
  {
   "cell_type": "markdown",
   "metadata": {},
   "source": [
    "#### 11- Leer el conjunto de datos ``movies.csv`` y asignarle a la variable que llamaremos ``peliculas``. Luego exhibir las 10 primeras líneas."
   ]
  },
  {
   "cell_type": "code",
   "execution_count": null,
   "metadata": {
    "colab": {
     "base_uri": "https://localhost:8080/",
     "height": 195
    },
    "colab_type": "code",
    "id": "9GqR8mvvPFTk",
    "outputId": "045a7c94-7e80-4476-9c69-aa9d3147e980"
   },
   "outputs": [],
   "source": []
  },
  {
   "cell_type": "markdown",
   "metadata": {},
   "source": [
    "#### 12- Renombrar el encabezado de las columnas con los siguientes nombres:\n",
    "    movieId => peliculaId\n",
    "    title => titulo\n",
    "    genres => generos"
   ]
  },
  {
   "cell_type": "code",
   "execution_count": null,
   "metadata": {},
   "outputs": [],
   "source": []
  },
  {
   "cell_type": "markdown",
   "metadata": {
    "colab_type": "text",
    "id": "Uh7lbptVdTP7"
   },
   "source": [
    "# Analizando algunas notas específicas por película"
   ]
  },
  {
   "cell_type": "markdown",
   "metadata": {},
   "source": [
    "Para sacar información sobre una película y su nota (desde el DataFrame notas) podemos usar el método ``query`` (una pregunta), comparando el valor del identificador de la película. Por ejemplo: para la película \"Toy Story (1995)\", ``peliculaId = 1``."
   ]
  },
  {
   "cell_type": "markdown",
   "metadata": {},
   "source": [
    "#### 13- Calcular el promedio de notas de la pelicula \"Toy Story\""
   ]
  },
  {
   "cell_type": "code",
   "execution_count": null,
   "metadata": {
    "colab": {
     "base_uri": "https://localhost:8080/",
     "height": 34
    },
    "colab_type": "code",
    "id": "ctwYC31vctN_",
    "outputId": "8b0037b6-1587-4996-fd9e-63410dbf2122"
   },
   "outputs": [],
   "source": []
  },
  {
   "cell_type": "markdown",
   "metadata": {},
   "source": [
    "#### 14- Repetir el proceso de exhibir las notas y sacar el promedio para otras películas de la lista, asignar el resultado a la variable que llamaremos ``promedio_por_peliculas``\n",
    "    usar ``groupby`` para agrupar las notas por identificador de película\n",
    "    El retorno será un objeto del tipo ``DataFrameGroupBy`` que nos permite usar algunas métricas como ``mean()``"
   ]
  },
  {
   "cell_type": "code",
   "execution_count": null,
   "metadata": {
    "colab": {
     "base_uri": "https://localhost:8080/",
     "height": 134
    },
    "colab_type": "code",
    "id": "ZwG5XDW4di7G",
    "outputId": "f26ca8f0-ffd4-4026-fdb2-0b92f71ff745"
   },
   "outputs": [],
   "source": []
  },
  {
   "cell_type": "markdown",
   "metadata": {},
   "source": [
    "#### 15- Graficar la distribución de la variable ``promedio_por_peliculas`` "
   ]
  },
  {
   "cell_type": "code",
   "execution_count": null,
   "metadata": {
    "colab": {
     "base_uri": "https://localhost:8080/",
     "height": 364
    },
    "colab_type": "code",
    "id": "petoBC-Ddr93",
    "outputId": "b301fece-ae3b-4c05-ad9e-1f94058a53af"
   },
   "outputs": [],
   "source": []
  },
  {
   "cell_type": "markdown",
   "metadata": {},
   "source": [
    "#### 16- Mostrar información de resumen estadístico de la columna ``promedio_por_peliculas`` en forma numérica y visual (Gráfico BoxPlot)"
   ]
  },
  {
   "cell_type": "code",
   "execution_count": null,
   "metadata": {
    "colab": {
     "base_uri": "https://localhost:8080/",
     "height": 536
    },
    "colab_type": "code",
    "id": "GhDj0fPqe0VD",
    "outputId": "af3871aa-df7a-40d0-aac3-db0eef95265e"
   },
   "outputs": [],
   "source": []
  },
  {
   "cell_type": "markdown",
   "metadata": {},
   "source": [
    "#### 17- Juntar las informaciones de los DataFrame ``peliculas`` y ``promedio_por_peliculas``. Para eso vamos utilizar el ``.join()``\n",
    "\n",
    "    Ejemplo: DataFrame1.join(DataFrame2, on=\"Id_en_comun\")\n",
    "\n",
    "Salvamos los cambios en un nuevo DataFrame de nombre ``peliculas_con_notas_promedio``"
   ]
  },
  {
   "cell_type": "code",
   "execution_count": null,
   "metadata": {},
   "outputs": [],
   "source": []
  },
  {
   "cell_type": "markdown",
   "metadata": {},
   "source": [
    "#### 18- Guardar el resultado en un archivo, que llamaremos ``peliculas_con_nota_promedio.csv``, en formato csv y sin el índice."
   ]
  }
 ],
 "metadata": {
  "colab": {
   "collapsed_sections": [],
   "name": "Introdução a Data Science.ipynb",
   "provenance": [],
   "version": "0.3.2"
  },
  "kernelspec": {
   "display_name": "Python 3",
   "language": "python",
   "name": "python3"
  },
  "language_info": {
   "codemirror_mode": {
    "name": "ipython",
    "version": 3
   },
   "file_extension": ".py",
   "mimetype": "text/x-python",
   "name": "python",
   "nbconvert_exporter": "python",
   "pygments_lexer": "ipython3",
   "version": "3.8.8"
  }
 },
 "nbformat": 4,
 "nbformat_minor": 1
}
