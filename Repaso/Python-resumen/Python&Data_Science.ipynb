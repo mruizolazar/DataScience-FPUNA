{
 "cells": [
  {
   "cell_type": "markdown",
   "metadata": {
    "colab_type": "text",
    "id": "do3kUOLbltjE"
   },
   "source": [
    "# <font color=green> PYTHON PARA DATA SCIENCE\n",
    "---"
   ]
  },
  {
   "cell_type": "markdown",
   "metadata": {
    "colab_type": "text",
    "id": "umSz9TLxltjG"
   },
   "source": [
    "# <font color=green> 1. INTRODUCCIÓN A PYTHON\n",
    "---"
   ]
  },
  {
   "cell_type": "markdown",
   "metadata": {
    "colab_type": "text",
    "id": "gSnX12-sltjH"
   },
   "source": [
    "# 1.1 Introducción"
   ]
  },
  {
   "cell_type": "markdown",
   "metadata": {
    "colab_type": "text",
    "id": "SRG_k55kltjI"
   },
   "source": [
    "> Python es un lenguaje de programación de alto nivel con soporte para múltiples paradigmas de programación. Es un proyecto *open source* y desde su aparición en 1991, se ha convertido en uno de los lenguajes de programación interpretados más populares. \n",
    ">\n",
    "> En los últimos años, Python ha desarrollado una comunidad activa de procesamiento científico y análisis de datos y se ha destacado como uno de los lenguajes más relevantes en lo que respecta a la ciencia de datos y el aprendizaje automático, tanto en el entorno académico como en el mercado."
   ]
  },
  {
   "cell_type": "markdown",
   "metadata": {
    "colab_type": "text",
    "id": "2oZuKvWkltjJ"
   },
   "source": [
    "# 1.2 Instalación y ambiente de desarrollo"
   ]
  },
  {
   "cell_type": "markdown",
   "metadata": {
    "colab_type": "text",
    "id": "v4P8bMEIltjK"
   },
   "source": [
    "### Instalación Local\n",
    "\n",
    "### https://www.python.org/downloads/\n",
    "### o\n",
    "### https://www.anaconda.com/distribution/"
   ]
  },
  {
   "cell_type": "markdown",
   "metadata": {
    "colab_type": "text",
    "id": "FZtu5tjrltjL"
   },
   "source": [
    "### Google Colaboratory\n",
    "\n",
    "### https://colab.research.google.com"
   ]
  },
  {
   "cell_type": "markdown",
   "metadata": {
    "colab_type": "text",
    "id": "C6vbfq8DltjM"
   },
   "source": [
    "### Verificando la versión"
   ]
  },
  {
   "cell_type": "code",
   "execution_count": null,
   "metadata": {
    "colab": {
     "base_uri": "https://localhost:8080/",
     "height": 34
    },
    "colab_type": "code",
    "id": "jeuAt-4NltjM",
    "outputId": "10db37fd-b395-4601-8b7e-a71de7f9c040"
   },
   "outputs": [],
   "source": [
    "!python -V"
   ]
  },
  {
   "cell_type": "markdown",
   "metadata": {
    "colab_type": "text",
    "id": "KdG5NmmGltj0"
   },
   "source": [
    "# <font color=green> 2. CARACTERÍSTICAS BÁSICAS DEL LENGUAJE\n",
    "---"
   ]
  },
  {
   "cell_type": "markdown",
   "metadata": {
    "colab_type": "text",
    "id": "X1K5kisFltj1"
   },
   "source": [
    "# 2.1 Operaciones matemáticas\n",
    "\n",
    "### Operadores aritméticos: $+$, $-$, $*$, $/$, $**$, $\\%$, $//$"
   ]
  },
  {
   "cell_type": "markdown",
   "metadata": {
    "colab_type": "text",
    "id": "8YCDVpbYltj1"
   },
   "source": [
    "### Adición ($+$)"
   ]
  },
  {
   "cell_type": "code",
   "execution_count": null,
   "metadata": {
    "colab": {
     "base_uri": "https://localhost:8080/",
     "height": 34
    },
    "colab_type": "code",
    "id": "h6DsMqhaltj2",
    "outputId": "b0317bf0-24f0-4d9b-d829-271ba5cfce3b"
   },
   "outputs": [],
   "source": [
    "2 + 2"
   ]
  },
  {
   "cell_type": "markdown",
   "metadata": {
    "colab_type": "text",
    "id": "WeJG-WJBltj8"
   },
   "source": [
    "### Subtracción ($-$)"
   ]
  },
  {
   "cell_type": "code",
   "execution_count": null,
   "metadata": {
    "colab": {
     "base_uri": "https://localhost:8080/",
     "height": 34
    },
    "colab_type": "code",
    "id": "zoB7_OcRltj9",
    "outputId": "4213c523-33da-43dd-afa6-3cc29801fab1"
   },
   "outputs": [],
   "source": [
    "2 - 2"
   ]
  },
  {
   "cell_type": "markdown",
   "metadata": {
    "colab_type": "text",
    "id": "zuv8N7fjltkC"
   },
   "source": [
    "### Multiplicación ($*$)"
   ]
  },
  {
   "cell_type": "code",
   "execution_count": null,
   "metadata": {
    "colab": {
     "base_uri": "https://localhost:8080/",
     "height": 34
    },
    "colab_type": "code",
    "id": "TAWG7xSTltkD",
    "outputId": "40174276-b103-4cd6-f917-c28b77885c7e"
   },
   "outputs": [],
   "source": [
    "2 * 3"
   ]
  },
  {
   "cell_type": "markdown",
   "metadata": {
    "colab_type": "text",
    "id": "dMp7BsnwltkF"
   },
   "source": [
    "### División ($/$) e ($//$)\n",
    "La operación división siempre retorna un número de punto flotante"
   ]
  },
  {
   "cell_type": "code",
   "execution_count": null,
   "metadata": {
    "colab": {
     "base_uri": "https://localhost:8080/",
     "height": 34
    },
    "colab_type": "code",
    "id": "DD5kx3H3ltkF",
    "outputId": "724d22b1-1510-490e-e705-cc046d7fb2c8"
   },
   "outputs": [],
   "source": [
    "10 / 3"
   ]
  },
  {
   "cell_type": "code",
   "execution_count": null,
   "metadata": {
    "colab": {
     "base_uri": "https://localhost:8080/",
     "height": 34
    },
    "colab_type": "code",
    "id": "ji0CYH3UltkI",
    "outputId": "b436553f-ad70-4fcd-e4da-7578a373c2be"
   },
   "outputs": [],
   "source": [
    "10 // 3"
   ]
  },
  {
   "cell_type": "markdown",
   "metadata": {
    "colab_type": "text",
    "id": "3DSO7TcvltkL"
   },
   "source": [
    "### Exponenciación ($**$)"
   ]
  },
  {
   "cell_type": "code",
   "execution_count": null,
   "metadata": {
    "colab": {
     "base_uri": "https://localhost:8080/",
     "height": 34
    },
    "colab_type": "code",
    "id": "tBKvl2TWltkM",
    "outputId": "2e51e963-5afe-412e-9895-5a2bc5e689e9"
   },
   "outputs": [],
   "source": [
    "2 ** 3"
   ]
  },
  {
   "cell_type": "markdown",
   "metadata": {
    "colab_type": "text",
    "id": "MhD56p-9ltkQ"
   },
   "source": [
    "### Resto de la división ($\\%$)"
   ]
  },
  {
   "cell_type": "code",
   "execution_count": null,
   "metadata": {
    "colab": {
     "base_uri": "https://localhost:8080/",
     "height": 34
    },
    "colab_type": "code",
    "id": "bfa7phO6ltkR",
    "outputId": "ddbc98b0-7a39-4ad6-b503-03f26c55b5dd"
   },
   "outputs": [],
   "source": [
    "10 % 3"
   ]
  },
  {
   "cell_type": "code",
   "execution_count": null,
   "metadata": {
    "colab": {
     "base_uri": "https://localhost:8080/",
     "height": 34
    },
    "colab_type": "code",
    "id": "khIEx6olltkT",
    "outputId": "dceb7020-95e5-4816-9ee9-079509471cda"
   },
   "outputs": [],
   "source": [
    "10 % 2"
   ]
  },
  {
   "cell_type": "markdown",
   "metadata": {
    "colab_type": "text",
    "id": "8pVVp5fsltkV"
   },
   "source": [
    "### Expresiones matemáticas"
   ]
  },
  {
   "cell_type": "code",
   "execution_count": null,
   "metadata": {
    "colab": {
     "base_uri": "https://localhost:8080/",
     "height": 34
    },
    "colab_type": "code",
    "id": "jlQTk4gNltkW",
    "outputId": "abd58817-1e82-4b18-9fb0-be5a499d688b"
   },
   "outputs": [],
   "source": [
    "5 * 2 + 3 * 2"
   ]
  },
  {
   "cell_type": "code",
   "execution_count": null,
   "metadata": {
    "colab": {
     "base_uri": "https://localhost:8080/",
     "height": 34
    },
    "colab_type": "code",
    "id": "kkCb6Crgltka",
    "outputId": "61eeae14-ff2e-4dac-b3a1-4240b255c9ca"
   },
   "outputs": [],
   "source": [
    "(5 * 2) + (3 * 2)"
   ]
  },
  {
   "cell_type": "code",
   "execution_count": null,
   "metadata": {
    "colab": {
     "base_uri": "https://localhost:8080/",
     "height": 34
    },
    "colab_type": "code",
    "id": "UD12tlgAltkd",
    "outputId": "c71e4ffe-b760-4655-b4a1-957c5f05cceb"
   },
   "outputs": [],
   "source": [
    "5 * (2 + 3) * 2"
   ]
  },
  {
   "cell_type": "markdown",
   "metadata": {
    "colab_type": "text",
    "id": "a5tKQ5Beltkf"
   },
   "source": [
    "### La variáble _\n",
    "\n",
    "En el modo interactivo, el último resultado impreso es atribuído a la variáble _"
   ]
  },
  {
   "cell_type": "code",
   "execution_count": null,
   "metadata": {
    "colab": {
     "base_uri": "https://localhost:8080/",
     "height": 34
    },
    "colab_type": "code",
    "id": "VkHEx516ltkg",
    "outputId": "043d4bd8-6f3b-44de-a2fc-6ce09b42518a"
   },
   "outputs": [],
   "source": [
    "5 * 2"
   ]
  },
  {
   "cell_type": "code",
   "execution_count": null,
   "metadata": {
    "colab": {
     "base_uri": "https://localhost:8080/",
     "height": 34
    },
    "colab_type": "code",
    "id": "dFShsobXltki",
    "outputId": "8ca0f3da-55c5-4e06-b4aa-493b3ba6238d"
   },
   "outputs": [],
   "source": [
    "_ + 3 * 2"
   ]
  },
  {
   "cell_type": "code",
   "execution_count": null,
   "metadata": {
    "colab": {
     "base_uri": "https://localhost:8080/",
     "height": 34
    },
    "colab_type": "code",
    "id": "hJIpR3KUltkk",
    "outputId": "581a22a8-2997-43be-d896-2a5e5e4da109"
   },
   "outputs": [],
   "source": [
    "_ / 2"
   ]
  },
  {
   "cell_type": "markdown",
   "metadata": {
    "colab_type": "text",
    "id": "MUrQAf6Mltkm"
   },
   "source": [
    "# 2.2 Variábles "
   ]
  },
  {
   "cell_type": "markdown",
   "metadata": {
    "colab_type": "text",
    "id": "qaVLKIeultkn"
   },
   "source": [
    "### Nombres de variábles\n",
    "\n",
    "- Nombres de variábles pueden comenzar con letras (a - z, A - Z) o el caracter *underscore* (_):\n",
    "\n",
    "    > Altura\n",
    "    >\n",
    "    > _peso\n",
    "    \n",
    "- El restante del nombre puede contener letras, números y/o el caracter \"_\":\n",
    "\n",
    "    > nombre_de_la_variable\n",
    "    >\n",
    "    > _valor\n",
    "    >\n",
    "    > dia_28_11_\n",
    "    \n",
    "\n",
    "- Los nombres son *case sensitive*:\n",
    "\n",
    "    > Nombre_De_La_Variable $\\ne$ nombre_de_la_variable $\\ne$ NOMBRE_DE_LA_VARIABLE\n",
    "    \n",
    "### <font color=red>Observaciones:\n",
    "- Existen algunas palabras reservadas del lenguaje que no pueden ser utilizadas como nombres de variábles:\n",
    "\n",
    "| |Lista de palabras <br>reservadas en Python| |\n",
    "|:-------------:|:------------:|:-------------:|\n",
    "| and           | as           | not           | \n",
    "| assert        | finally      | or            | \n",
    "| break         | for          | pass          | \n",
    "| class         | from         | nonlocal      | \n",
    "| continue      | global       | raise         | \n",
    "| def           | if           | return        | \n",
    "| del           | import       | try           | \n",
    "| elif          | in           | while         | \n",
    "| else          | is           | with          | \n",
    "| except        | lambda       | yield         | \n",
    "| False         | True         | None          | "
   ]
  },
  {
   "cell_type": "markdown",
   "metadata": {
    "colab_type": "text",
    "id": "3frWjfAtltkn"
   },
   "source": [
    "### Declaración de variábles\n",
    "\n",
    "### Operadores de atribución: $=$, $+=$, $-=$, $*=$, $/=$, $**=$, $\\%=$, $//=$"
   ]
  },
  {
   "cell_type": "code",
   "execution_count": null,
   "metadata": {
    "colab": {},
    "colab_type": "code",
    "id": "7VIcrXNHltko"
   },
   "outputs": [],
   "source": [
    "anho_actual = 2019\n",
    "anho_fabricacion = 2003\n",
    "km_total = 44410.0"
   ]
  },
  {
   "cell_type": "code",
   "execution_count": null,
   "metadata": {
    "colab": {
     "base_uri": "https://localhost:8080/",
     "height": 34
    },
    "colab_type": "code",
    "id": "atVoqp6bltkq",
    "outputId": "ed2b4e61-5d17-48d9-fd11-e2d2aa2c913e"
   },
   "outputs": [],
   "source": [
    "anho_actual"
   ]
  },
  {
   "cell_type": "code",
   "execution_count": null,
   "metadata": {
    "colab": {
     "base_uri": "https://localhost:8080/",
     "height": 34
    },
    "colab_type": "code",
    "id": "_t82qXrOltkt",
    "outputId": "0e21ae36-9808-4266-9630-c231c0ad0f85"
   },
   "outputs": [],
   "source": [
    "anho_fabricacion"
   ]
  },
  {
   "cell_type": "code",
   "execution_count": null,
   "metadata": {
    "colab": {
     "base_uri": "https://localhost:8080/",
     "height": 34
    },
    "colab_type": "code",
    "id": "1anwuDHiltkv",
    "outputId": "e199bf88-a3c6-4ac3-b11f-14f9e10ad4ff"
   },
   "outputs": [],
   "source": [
    "km_total"
   ]
  },
  {
   "cell_type": "markdown",
   "metadata": {
    "colab_type": "text",
    "id": "gCBkfq_8ltky"
   },
   "source": [
    "# $$km_{média} = \\frac {km_{total}}{(Anho_{actual} - Anho_{fabricacion})}$$"
   ]
  },
  {
   "cell_type": "markdown",
   "metadata": {
    "colab_type": "text",
    "id": "zswWS4hNltky"
   },
   "source": [
    "### Operaciones con variábles"
   ]
  },
  {
   "cell_type": "code",
   "execution_count": null,
   "metadata": {
    "colab": {
     "base_uri": "https://localhost:8080/",
     "height": 34
    },
    "colab_type": "code",
    "id": "HxxU0rnfltkz",
    "outputId": "f3a56ba9-50ae-4d03-fa16-b3e51531e263"
   },
   "outputs": [],
   "source": [
    "km_media = km_total / (anho_actual - anho_fabricacion)\n",
    "km_media"
   ]
  },
  {
   "cell_type": "code",
   "execution_count": null,
   "metadata": {
    "colab": {
     "base_uri": "https://localhost:8080/",
     "height": 34
    },
    "colab_type": "code",
    "id": "_2Qhb32jltk1",
    "outputId": "64d6c010-9f12-4233-bb56-da89ad4fe558"
   },
   "outputs": [],
   "source": [
    "anho_actual = 2019\n",
    "anho_fabricacion = 2003\n",
    "km_total = 44410.0\n",
    "km_media = km_total / (anho_actual - anho_fabricacion)\n",
    "km_media"
   ]
  },
  {
   "cell_type": "code",
   "execution_count": null,
   "metadata": {
    "colab": {
     "base_uri": "https://localhost:8080/",
     "height": 34
    },
    "colab_type": "code",
    "id": "nCJzA7dyltk3",
    "outputId": "855a0c22-c99a-41cc-b3ac-9370601fe2d6"
   },
   "outputs": [],
   "source": [
    "anho_actual = 2019\n",
    "anho_fabricacion = 2003\n",
    "km_total = 44410.0\n",
    "km_media = km_total / (anho_actual - anho_fabricacion)\n",
    "\n",
    "km_total = km_total + km_media\n",
    "km_total"
   ]
  },
  {
   "cell_type": "code",
   "execution_count": null,
   "metadata": {
    "colab": {
     "base_uri": "https://localhost:8080/",
     "height": 34
    },
    "colab_type": "code",
    "id": "ifRwQ0vEltk9",
    "outputId": "649bb85f-75b4-4edd-e686-db4ee5fa34b9"
   },
   "outputs": [],
   "source": [
    "anho_actual = 2019\n",
    "anho_fabricacion = 2003\n",
    "km_total = 44410.0\n",
    "km_media = km_total / (anho_actual - anho_fabricacion)\n",
    "\n",
    "km_total += km_media\n",
    "km_total"
   ]
  },
  {
   "cell_type": "markdown",
   "metadata": {
    "colab_type": "text",
    "id": "fDBrHWSBltlB"
   },
   "source": [
    "### Conclusión:\n",
    "```\n",
    "\"valor = valor + 1\" es equivalente al \"valor += 1\"\n",
    "```"
   ]
  },
  {
   "cell_type": "markdown",
   "metadata": {
    "colab_type": "text",
    "id": "uVAyJbmAltlC"
   },
   "source": [
    "### Declaración múltiple"
   ]
  },
  {
   "cell_type": "code",
   "execution_count": null,
   "metadata": {
    "colab": {},
    "colab_type": "code",
    "id": "oMWEzjPOltlC"
   },
   "outputs": [],
   "source": [
    "anho_actual, anho_fabricacion, km_total = 2019, 2003, 44410.0"
   ]
  },
  {
   "cell_type": "code",
   "execution_count": null,
   "metadata": {
    "colab": {
     "base_uri": "https://localhost:8080/",
     "height": 34
    },
    "colab_type": "code",
    "id": "9ZKlHkLultlE",
    "outputId": "9677e531-b75b-418c-ac4c-a5d99a45b73c"
   },
   "outputs": [],
   "source": [
    "anho_actual"
   ]
  },
  {
   "cell_type": "code",
   "execution_count": null,
   "metadata": {
    "colab": {
     "base_uri": "https://localhost:8080/",
     "height": 34
    },
    "colab_type": "code",
    "id": "-mcMuW9nltlG",
    "outputId": "3e4a92bf-b3e3-46a9-8a21-846a5c02a66c"
   },
   "outputs": [],
   "source": [
    "anho_fabricacion"
   ]
  },
  {
   "cell_type": "code",
   "execution_count": null,
   "metadata": {
    "colab": {
     "base_uri": "https://localhost:8080/",
     "height": 34
    },
    "colab_type": "code",
    "id": "WFFavLIvltlL",
    "outputId": "ba455478-18c9-4ee7-cf36-a2337fd9f458"
   },
   "outputs": [],
   "source": [
    "km_total"
   ]
  },
  {
   "cell_type": "code",
   "execution_count": null,
   "metadata": {
    "colab": {
     "base_uri": "https://localhost:8080/",
     "height": 34
    },
    "colab_type": "code",
    "id": "iFawOJe6ltlO",
    "outputId": "1bee6477-1f2c-466b-989e-59093a749b00"
   },
   "outputs": [],
   "source": [
    "anho_actual, anho_fabricacion, km_total = 2019, 2003, 44410.0\n",
    "km_media = km_total / (anho_actual - anho_fabricacion)\n",
    "km_media"
   ]
  },
  {
   "cell_type": "markdown",
   "metadata": {
    "colab_type": "text",
    "id": "uoRXMeRDltlQ"
   },
   "source": [
    "# 2.3 Tipos de datos"
   ]
  },
  {
   "cell_type": "markdown",
   "metadata": {
    "colab_type": "text",
    "id": "sW_G6EjWltlQ"
   },
   "source": [
    "Los tipos de datos especifican como números y caracteres serán almacenados y manipulados dentro de un programa. Los tipos de datos básicos de Python son:\n",
    "\n",
    "1. **Números**\n",
    "    1. ***int*** - Enteros\n",
    "    - ***float*** - Punto flotante\n",
    "- **Booleanos** - Asume los valores True o False. Esencial cuando comenzamos a trabajar con declaraciones condicionales\n",
    "- ***Strings*** - Secuencia de uno o mas caracteres que puede incluir letras, números y otros tipos de caracteres. Representa un texto.\n",
    "- **None** - Representa la ausencia de valor"
   ]
  },
  {
   "cell_type": "markdown",
   "metadata": {
    "colab_type": "text",
    "id": "-HRRxQOtltlQ"
   },
   "source": [
    "### Números"
   ]
  },
  {
   "cell_type": "code",
   "execution_count": null,
   "metadata": {
    "colab": {},
    "colab_type": "code",
    "id": "5PKIcIuUltlR"
   },
   "outputs": [],
   "source": [
    "anho_actual = 2019"
   ]
  },
  {
   "cell_type": "code",
   "execution_count": null,
   "metadata": {
    "colab": {
     "base_uri": "https://localhost:8080/",
     "height": 34
    },
    "colab_type": "code",
    "id": "G32Yd1g0ltlT",
    "outputId": "63c67a82-9ecd-48ad-9a2f-86dfad59d92f"
   },
   "outputs": [],
   "source": [
    "type(anho_actual)"
   ]
  },
  {
   "cell_type": "code",
   "execution_count": null,
   "metadata": {
    "colab": {},
    "colab_type": "code",
    "id": "b9_v__dEltlV"
   },
   "outputs": [],
   "source": [
    "km_total = 44410.0"
   ]
  },
  {
   "cell_type": "code",
   "execution_count": null,
   "metadata": {
    "colab": {
     "base_uri": "https://localhost:8080/",
     "height": 34
    },
    "colab_type": "code",
    "id": "A0nySb3LltlZ",
    "outputId": "e9e0e9a1-e4d4-4aff-9a86-5e04198ad435"
   },
   "outputs": [],
   "source": [
    "type(km_total)"
   ]
  },
  {
   "cell_type": "markdown",
   "metadata": {
    "colab_type": "text",
    "id": "7X9iheAnltld"
   },
   "source": [
    "### Booleanos"
   ]
  },
  {
   "cell_type": "code",
   "execution_count": null,
   "metadata": {
    "colab": {},
    "colab_type": "code",
    "id": "liUYdchPltle"
   },
   "outputs": [],
   "source": [
    "zero_km = True"
   ]
  },
  {
   "cell_type": "code",
   "execution_count": null,
   "metadata": {
    "colab": {
     "base_uri": "https://localhost:8080/",
     "height": 34
    },
    "colab_type": "code",
    "id": "oZIQAghaltlh",
    "outputId": "e1207fde-4be1-4e38-8893-60f4831825e8"
   },
   "outputs": [],
   "source": [
    "type(zero_km)"
   ]
  },
  {
   "cell_type": "code",
   "execution_count": null,
   "metadata": {
    "colab": {},
    "colab_type": "code",
    "id": "XCAYApe3ltlj"
   },
   "outputs": [],
   "source": [
    "zero_km = False"
   ]
  },
  {
   "cell_type": "code",
   "execution_count": null,
   "metadata": {
    "colab": {
     "base_uri": "https://localhost:8080/",
     "height": 34
    },
    "colab_type": "code",
    "id": "mJ0nGEV7ltll",
    "outputId": "559fdea4-ccce-4dab-f76f-e40c14f66688"
   },
   "outputs": [],
   "source": [
    "type(zero_km)"
   ]
  },
  {
   "cell_type": "markdown",
   "metadata": {
    "colab_type": "text",
    "id": "Ipjq4eiSltlp"
   },
   "source": [
    "### Strings"
   ]
  },
  {
   "cell_type": "code",
   "execution_count": null,
   "metadata": {
    "colab": {
     "base_uri": "https://localhost:8080/",
     "height": 34
    },
    "colab_type": "code",
    "id": "OeW_GQzOltlr",
    "outputId": "debd835d-abf2-49dc-b507-b0aec7eb788a"
   },
   "outputs": [],
   "source": [
    "nombre = 'Jetta Variant'\n",
    "nombre"
   ]
  },
  {
   "cell_type": "code",
   "execution_count": null,
   "metadata": {
    "colab": {
     "base_uri": "https://localhost:8080/",
     "height": 34
    },
    "colab_type": "code",
    "id": "xF1Bi-Rkltlu",
    "outputId": "98e21c44-bb61-42df-909e-772447004ca6"
   },
   "outputs": [],
   "source": [
    "nombre = \"Jetta Variant\"\n",
    "nombre"
   ]
  },
  {
   "cell_type": "code",
   "execution_count": null,
   "metadata": {
    "colab": {
     "base_uri": "https://localhost:8080/",
     "height": 34
    },
    "colab_type": "code",
    "id": "QlobSFUtltlw",
    "outputId": "02061ee6-c50e-45c5-c912-62c5dad75920"
   },
   "outputs": [],
   "source": [
    "nombre = 'Jetta \"Variant\"'\n",
    "nombre"
   ]
  },
  {
   "cell_type": "code",
   "execution_count": null,
   "metadata": {
    "colab": {
     "base_uri": "https://localhost:8080/",
     "height": 34
    },
    "colab_type": "code",
    "id": "8LBWzzfbltly",
    "outputId": "82a8efdd-825e-4511-fd9f-8d29361da3b0"
   },
   "outputs": [],
   "source": [
    "nombre = \"Jetta 'Variant'\"\n",
    "nombre"
   ]
  },
  {
   "cell_type": "code",
   "execution_count": null,
   "metadata": {
    "colab": {},
    "colab_type": "code",
    "id": "ycEhoxtUltl0"
   },
   "outputs": [],
   "source": [
    "auto = '''\n",
    "  Nome\n",
    "  Idade\n",
    "  Nota\n",
    "'''"
   ]
  },
  {
   "cell_type": "code",
   "execution_count": null,
   "metadata": {
    "colab": {
     "base_uri": "https://localhost:8080/",
     "height": 34
    },
    "colab_type": "code",
    "id": "bjZQzpuUltl2",
    "outputId": "7bbe2675-cacf-4b59-d4e2-0d861c1ad958"
   },
   "outputs": [],
   "source": [
    "type(auto)"
   ]
  },
  {
   "cell_type": "markdown",
   "metadata": {
    "colab_type": "text",
    "id": "w6bJU-R9ltl5"
   },
   "source": [
    "### None"
   ]
  },
  {
   "cell_type": "code",
   "execution_count": null,
   "metadata": {
    "colab": {},
    "colab_type": "code",
    "id": "RgeVhXGxltl5"
   },
   "outputs": [],
   "source": [
    "kilometraje = None\n",
    "kilometraje"
   ]
  },
  {
   "cell_type": "code",
   "execution_count": null,
   "metadata": {
    "colab": {
     "base_uri": "https://localhost:8080/",
     "height": 34
    },
    "colab_type": "code",
    "id": "MJI6PKS6ltl8",
    "outputId": "b7e0d847-ef10-43ba-e36c-c2e481b95898"
   },
   "outputs": [],
   "source": [
    "type(kilometraje)"
   ]
  },
  {
   "cell_type": "markdown",
   "metadata": {
    "colab_type": "text",
    "id": "_ilupwV-ltl-"
   },
   "source": [
    "# 2.4 Conversión de tipos"
   ]
  },
  {
   "cell_type": "code",
   "execution_count": null,
   "metadata": {
    "colab": {},
    "colab_type": "code",
    "id": "D5hq5Qbvltl-"
   },
   "outputs": [],
   "source": [
    "a = 10\n",
    "b = 20\n",
    "c = 'Python es '\n",
    "d = 'genial'"
   ]
  },
  {
   "cell_type": "code",
   "execution_count": null,
   "metadata": {
    "colab": {
     "base_uri": "https://localhost:8080/",
     "height": 34
    },
    "colab_type": "code",
    "id": "aJ0vi8_Nltl_",
    "outputId": "d473a9b7-31e3-448d-f520-3e4d583e8625"
   },
   "outputs": [],
   "source": [
    "type(a)"
   ]
  },
  {
   "cell_type": "code",
   "execution_count": null,
   "metadata": {
    "colab": {
     "base_uri": "https://localhost:8080/",
     "height": 34
    },
    "colab_type": "code",
    "id": "29FVH7p7ltmB",
    "outputId": "aa213039-0b1f-40e5-dbbe-94e7b7fe872d"
   },
   "outputs": [],
   "source": [
    "type(b)"
   ]
  },
  {
   "cell_type": "code",
   "execution_count": null,
   "metadata": {
    "colab": {
     "base_uri": "https://localhost:8080/",
     "height": 34
    },
    "colab_type": "code",
    "id": "NGseTO2SltmC",
    "outputId": "50672ce2-61db-4427-81b6-e1f3c36868da"
   },
   "outputs": [],
   "source": [
    "type(c)"
   ]
  },
  {
   "cell_type": "code",
   "execution_count": null,
   "metadata": {
    "colab": {
     "base_uri": "https://localhost:8080/",
     "height": 34
    },
    "colab_type": "code",
    "id": "yaSBhwNWltmE",
    "outputId": "a5e2a755-4e72-4a8a-c2e4-bb68080ba459"
   },
   "outputs": [],
   "source": [
    "type(d)"
   ]
  },
  {
   "cell_type": "code",
   "execution_count": null,
   "metadata": {
    "colab": {
     "base_uri": "https://localhost:8080/",
     "height": 34
    },
    "colab_type": "code",
    "id": "5zMXVwLHltmF",
    "outputId": "25b74b99-108c-4d1a-e0d4-b130f9924479"
   },
   "outputs": [],
   "source": [
    "a + b"
   ]
  },
  {
   "cell_type": "code",
   "execution_count": null,
   "metadata": {
    "colab": {
     "base_uri": "https://localhost:8080/",
     "height": 34
    },
    "colab_type": "code",
    "id": "JJrqKRZFltmJ",
    "outputId": "390b513d-3bb4-41f3-d8a4-2e9263fd2970"
   },
   "outputs": [],
   "source": [
    "c + d"
   ]
  },
  {
   "cell_type": "code",
   "execution_count": null,
   "metadata": {
    "colab": {},
    "colab_type": "code",
    "id": "QDZzu0A813ax"
   },
   "outputs": [],
   "source": [
    "# c + a"
   ]
  },
  {
   "cell_type": "markdown",
   "metadata": {
    "colab_type": "text",
    "id": "dByigpENltmO"
   },
   "source": [
    "### Conversiones de tipo\n",
    "\n",
    "Funciones int(), float(), str()"
   ]
  },
  {
   "cell_type": "code",
   "execution_count": null,
   "metadata": {
    "colab": {
     "base_uri": "https://localhost:8080/",
     "height": 34
    },
    "colab_type": "code",
    "id": "MtecvWlsltmP",
    "outputId": "7fa1e3fd-6377-4031-cfb0-420ca3f46df6"
   },
   "outputs": [],
   "source": [
    "str(a)"
   ]
  },
  {
   "cell_type": "code",
   "execution_count": null,
   "metadata": {
    "colab": {
     "base_uri": "https://localhost:8080/",
     "height": 34
    },
    "colab_type": "code",
    "id": "S1NuIhDVltmS",
    "outputId": "f471dbc0-3c19-4ece-cf1b-b5c942458817"
   },
   "outputs": [],
   "source": [
    "type(str(a))"
   ]
  },
  {
   "cell_type": "code",
   "execution_count": null,
   "metadata": {
    "colab": {
     "base_uri": "https://localhost:8080/",
     "height": 34
    },
    "colab_type": "code",
    "id": "3kCUD1X-ltmT",
    "outputId": "6e909b4d-99e0-4eed-9c18-1b01a6688b0f"
   },
   "outputs": [],
   "source": [
    "c + str(a)"
   ]
  },
  {
   "cell_type": "code",
   "execution_count": null,
   "metadata": {
    "colab": {
     "base_uri": "https://localhost:8080/",
     "height": 34
    },
    "colab_type": "code",
    "id": "TTjSEVRaltmU",
    "outputId": "51f710b2-e55c-4d2a-82c4-bed7f0c593c9"
   },
   "outputs": [],
   "source": [
    "float(a)"
   ]
  },
  {
   "cell_type": "code",
   "execution_count": null,
   "metadata": {
    "colab": {},
    "colab_type": "code",
    "id": "P1P1bXaYltmV"
   },
   "outputs": [],
   "source": [
    "var = 3.141592"
   ]
  },
  {
   "cell_type": "code",
   "execution_count": null,
   "metadata": {
    "colab": {
     "base_uri": "https://localhost:8080/",
     "height": 34
    },
    "colab_type": "code",
    "id": "F_8Cn0aAltmW",
    "outputId": "2a3e7efb-d332-4b10-ab2e-8936ad2d7496"
   },
   "outputs": [],
   "source": [
    "int(var)"
   ]
  },
  {
   "cell_type": "code",
   "execution_count": null,
   "metadata": {
    "colab": {},
    "colab_type": "code",
    "id": "_KA6MUgmltmY"
   },
   "outputs": [],
   "source": [
    "var = 3.99"
   ]
  },
  {
   "cell_type": "code",
   "execution_count": null,
   "metadata": {
    "colab": {
     "base_uri": "https://localhost:8080/",
     "height": 34
    },
    "colab_type": "code",
    "id": "7uiCxqUcltma",
    "outputId": "273cd3c3-9686-49bf-92d2-7c1363a7e095"
   },
   "outputs": [],
   "source": [
    "int(var)"
   ]
  },
  {
   "cell_type": "markdown",
   "metadata": {
    "colab_type": "text",
    "id": "gGpflJMYltmd"
   },
   "source": [
    "# 2.5 Indentación, comentários y formatación de *strings*"
   ]
  },
  {
   "cell_type": "markdown",
   "metadata": {
    "colab_type": "text",
    "id": "XbijUgqVltmw"
   },
   "source": [
    "### Indentación\n",
    "\n",
    "En Python, los programas se estructuran mediante sangría. En cualquier lenguaje de programación, la práctica de la sangría es muy útil, ya que facilita la lectura y el mantenimiento del código. En Python, la sangría no es solo una cuestión de organización y estilo, sino un requisito de lenguaje."
   ]
  },
  {
   "cell_type": "code",
   "execution_count": null,
   "metadata": {
    "colab": {
     "base_uri": "https://localhost:8080/",
     "height": 34
    },
    "colab_type": "code",
    "id": "DqXANnyultmw",
    "outputId": "81632c2d-9919-4713-8099-411c48945e64"
   },
   "outputs": [],
   "source": [
    "anho_actual = 2019\n",
    "anho_fabricacion = 2019\n",
    "\n",
    "if (anho_actual == anho_fabricacion):\n",
    "  print('Verdadero')\n",
    "else:\n",
    "  print('Falso')"
   ]
  },
  {
   "cell_type": "markdown",
   "metadata": {
    "colab_type": "text",
    "id": "dNBfv7x7ltmy"
   },
   "source": [
    "### Comentarios\n",
    "\n",
    "Comentarios son extremamente importantes en un programa. Consiste en un texto que describe lo que el programa o una parte específica del programa está haciendo. Los comentarios son ignorados por el interpretador Python. \n",
    "\n",
    "Podemos tener comentarios de una única línea o de múltiples líneas."
   ]
  },
  {
   "cell_type": "code",
   "execution_count": null,
   "metadata": {
    "colab": {
     "base_uri": "https://localhost:8080/",
     "height": 34
    },
    "colab_type": "code",
    "id": "GN3DfwiRltmy",
    "outputId": "a8194e87-0ce8-4bee-a03a-7a6cd8f5a3e3"
   },
   "outputs": [],
   "source": [
    "# Esto es un comentário\n",
    "anho_actual = 2019\n",
    "anho_actual"
   ]
  },
  {
   "cell_type": "code",
   "execution_count": null,
   "metadata": {
    "colab": {
     "base_uri": "https://localhost:8080/",
     "height": 34
    },
    "colab_type": "code",
    "id": "PICBiohFltm2",
    "outputId": "74fa6861-10e2-4eda-9ade-ec6bafbb537f"
   },
   "outputs": [],
   "source": [
    "# Esto\n",
    "# es un \n",
    "# comentario\n",
    "anho_actual = 2019\n",
    "anho_actual"
   ]
  },
  {
   "cell_type": "code",
   "execution_count": null,
   "metadata": {
    "colab": {
     "base_uri": "https://localhost:8080/",
     "height": 34
    },
    "colab_type": "code",
    "id": "PTkJ4Vjultm4",
    "outputId": "1b125254-516d-499e-9e7f-e04988b875a2"
   },
   "outputs": [],
   "source": [
    "'''Esto es un\n",
    "comentario'''\n",
    "anho_actual = 2019\n",
    "anho_actual"
   ]
  },
  {
   "cell_type": "code",
   "execution_count": null,
   "metadata": {
    "colab": {
     "base_uri": "https://localhost:8080/",
     "height": 34
    },
    "colab_type": "code",
    "id": "SYEGdALxltm5",
    "outputId": "9d205531-813f-41d4-bdf5-264759f5f2d5"
   },
   "outputs": [],
   "source": [
    "# Definiendo variábles\n",
    "anho_actual = 2019\n",
    "anho_fabricacion = 2019\n",
    "\n",
    "'''\n",
    "Estructura condicional \n",
    "'''\n",
    "if (anho_actual == anho_fabricacion):   # Verificando si la condición es verdadera\n",
    "  print('Verdadero')\n",
    "else:                               # Verificando si la condiçión es falsa\n",
    "  print('Falso')"
   ]
  },
  {
   "cell_type": "markdown",
   "metadata": {
    "colab_type": "text",
    "id": "8--bcJ01ltm8"
   },
   "source": [
    "### Formatación de *strings*"
   ]
  },
  {
   "cell_type": "markdown",
   "metadata": {
    "colab_type": "text",
    "id": "CMovhJZ_ltnG"
   },
   "source": [
    "## *str.format()*\n",
    "\n",
    "https://docs.python.org/3.6/library/stdtypes.html#str.format"
   ]
  },
  {
   "cell_type": "code",
   "execution_count": null,
   "metadata": {
    "colab": {
     "base_uri": "https://localhost:8080/",
     "height": 34
    },
    "colab_type": "code",
    "id": "N12xmMehltnG",
    "outputId": "38bbc20b-52e8-4a89-b09f-570577ab012f"
   },
   "outputs": [],
   "source": [
    "print('Hola, {}!'.format('Rodrigo'))"
   ]
  },
  {
   "cell_type": "code",
   "execution_count": null,
   "metadata": {
    "colab": {
     "base_uri": "https://localhost:8080/",
     "height": 34
    },
    "colab_type": "code",
    "id": "mRBmU9G1ltnJ",
    "outputId": "6a615c5f-5ee5-4160-b013-91522183072b"
   },
   "outputs": [],
   "source": [
    "print('Hola, {}! Este es su acceso de número {}'.format('Rodrigo', 32))"
   ]
  },
  {
   "cell_type": "code",
   "execution_count": null,
   "metadata": {
    "colab": {
     "base_uri": "https://localhost:8080/",
     "height": 34
    },
    "colab_type": "code",
    "id": "wpqEsTwnltnL",
    "outputId": "26a1dcbc-ae20-429e-ff06-c96d04c99381"
   },
   "outputs": [],
   "source": [
    "print('Hola, {nombre}! Este es su acceso de número {accesos}'.format(nombre = 'Rodrigo', accesos = 32))"
   ]
  },
  {
   "cell_type": "markdown",
   "metadata": {
    "colab_type": "text",
    "id": "V-wPNUN9ltnN"
   },
   "source": [
    "## *f-Strings*\n",
    "\n",
    "https://docs.python.org/3.6/reference/lexical_analysis.html#f-strings"
   ]
  },
  {
   "cell_type": "code",
   "execution_count": null,
   "metadata": {
    "colab": {},
    "colab_type": "code",
    "id": "7Fq_WPv0ltnO"
   },
   "outputs": [],
   "source": [
    "nombre = 'Rodrigo'\n",
    "accesos = 32"
   ]
  },
  {
   "cell_type": "code",
   "execution_count": null,
   "metadata": {
    "colab": {
     "base_uri": "https://localhost:8080/",
     "height": 34
    },
    "colab_type": "code",
    "id": "bE3qbd6WltnR",
    "outputId": "fbf2be99-cee1-4498-e901-7ef82cfa42df"
   },
   "outputs": [],
   "source": [
    "print(f'Olá, {nombre}! Este es su acceso de número {accesos}')"
   ]
  },
  {
   "cell_type": "markdown",
   "metadata": {
    "colab_type": "text",
    "id": "_IZuNE48ltnS"
   },
   "source": [
    "# <font color=green> 3. TRABAJANDO CON LISTAS\n",
    "---"
   ]
  },
  {
   "cell_type": "markdown",
   "metadata": {
    "colab_type": "text",
    "id": "zhS89xysltnS"
   },
   "source": [
    "# 3.1 Creando listas\n",
    "\n",
    "Listas son secuencias **mutábles** que son utilizadas para almacenar colecciones de itens, generalmente homogeneos. Pueden ser construídos de várias formas:\n",
    "```\n",
    "- Utilizando un par de corchetes: [ ], [ 1 ]\n",
    "- Utilizando un par de corchetes con itens separados por comas: [ 1, 2, 3 ]\n",
    "```"
   ]
  },
  {
   "cell_type": "code",
   "execution_count": null,
   "metadata": {
    "colab": {
     "base_uri": "https://localhost:8080/",
     "height": 153
    },
    "colab_type": "code",
    "id": "aE4UWF10ltnS",
    "outputId": "1c27be59-52b0-4016-c38b-c773e44c1b8d"
   },
   "outputs": [],
   "source": [
    "Accesorios = ['Llantas de aleación', 'Cerraduras eléctricas', 'Piloto automático', 'Asientos de cuero', 'Aire condicionado', 'Sensor de estacionamento', 'Sensor crepuscular', 'Sensor de lluvia']\n",
    "Accesorios"
   ]
  },
  {
   "cell_type": "code",
   "execution_count": null,
   "metadata": {
    "colab": {
     "base_uri": "https://localhost:8080/",
     "height": 34
    },
    "colab_type": "code",
    "id": "pP7P-9Nfq-Pp",
    "outputId": "de4eac13-491f-4b90-c335-74a5fd80dd00"
   },
   "outputs": [],
   "source": [
    "type(Accesorios)"
   ]
  },
  {
   "cell_type": "markdown",
   "metadata": {
    "colab_type": "text",
    "id": "Mmlkh5TVltnT"
   },
   "source": [
    "### Lista con tipos de datos variados"
   ]
  },
  {
   "cell_type": "code",
   "execution_count": null,
   "metadata": {
    "colab": {},
    "colab_type": "code",
    "id": "Mfpu7NoJltnT"
   },
   "outputs": [],
   "source": [
    "Auto_1 = ['Jetta Variant', 'Motor 4.0 Turbo', 2003, 44410.0, False, ['Llantas de aleación', 'Cerraduras elétricas', 'Piloto automático'], 88078.64]\n",
    "Auto_2 = ['Passat', 'Motor Diesel', 1991, 5712.0, False, ['Central multimedia', 'Techo panoramico', 'Frenos ABS'], 106161.94]"
   ]
  },
  {
   "cell_type": "code",
   "execution_count": null,
   "metadata": {
    "colab": {
     "base_uri": "https://localhost:8080/",
     "height": 136
    },
    "colab_type": "code",
    "id": "EJSJFJjKltnV",
    "outputId": "5a7be390-e75c-4c36-934a-ce3b8d28a837"
   },
   "outputs": [],
   "source": [
    "Auto_1"
   ]
  },
  {
   "cell_type": "code",
   "execution_count": null,
   "metadata": {
    "colab": {
     "base_uri": "https://localhost:8080/",
     "height": 136
    },
    "colab_type": "code",
    "id": "7MMG7L8VltnX",
    "outputId": "b2d5304a-6542-4fb5-f9d5-f2abbf29340f"
   },
   "outputs": [],
   "source": [
    "Auto_2"
   ]
  },
  {
   "cell_type": "code",
   "execution_count": null,
   "metadata": {
    "colab": {
     "base_uri": "https://localhost:8080/",
     "height": 255
    },
    "colab_type": "code",
    "id": "7E8erLgZltnZ",
    "outputId": "02cbc474-fce5-4cd9-cdfe-b2de135d0d6d"
   },
   "outputs": [],
   "source": [
    "Autos = [Auto_1, Auto_2]\n",
    "Autos"
   ]
  },
  {
   "cell_type": "markdown",
   "metadata": {
    "colab_type": "text",
    "id": "5yMXJ0xdltna"
   },
   "source": [
    "# 3.2 Operaciones con listas\n",
    "\n",
    "https://docs.python.org/3.6/library/stdtypes.html#common-sequence-operations"
   ]
  },
  {
   "cell_type": "markdown",
   "metadata": {
    "colab_type": "text",
    "id": "YSorJOGlltna"
   },
   "source": [
    "## *x in A*\n",
    "\n",
    "Retorna **True** si un elemento de la lista *A* es igual a *x*."
   ]
  },
  {
   "cell_type": "code",
   "execution_count": null,
   "metadata": {
    "colab": {
     "base_uri": "https://localhost:8080/",
     "height": 153
    },
    "colab_type": "code",
    "id": "GgSP_nlHltnb",
    "outputId": "21ad051b-0256-4cde-b3f0-8d18da4128c1"
   },
   "outputs": [],
   "source": [
    "Accesorios"
   ]
  },
  {
   "cell_type": "code",
   "execution_count": null,
   "metadata": {
    "colab": {
     "base_uri": "https://localhost:8080/",
     "height": 34
    },
    "colab_type": "code",
    "id": "_JyyHPmWltnd",
    "outputId": "5b4d5691-db4c-45a4-b77e-208cdb0c92e7"
   },
   "outputs": [],
   "source": [
    "'Llantas de aleación' in Accesorios"
   ]
  },
  {
   "cell_type": "code",
   "execution_count": null,
   "metadata": {
    "colab": {
     "base_uri": "https://localhost:8080/",
     "height": 34
    },
    "colab_type": "code",
    "id": "tebg9gAyltne",
    "outputId": "74a70937-2fa0-4360-fef8-68aa41df4b99"
   },
   "outputs": [],
   "source": [
    "'4 X 4' in Accesorios"
   ]
  },
  {
   "cell_type": "code",
   "execution_count": null,
   "metadata": {
    "colab": {
     "base_uri": "https://localhost:8080/",
     "height": 34
    },
    "colab_type": "code",
    "id": "W_1PKJYsltnf",
    "outputId": "a073b8b0-80a4-4061-cf91-6d4e6bedf30f"
   },
   "outputs": [],
   "source": [
    "'Llantas de aleación' not in Accesorios"
   ]
  },
  {
   "cell_type": "code",
   "execution_count": null,
   "metadata": {
    "colab": {
     "base_uri": "https://localhost:8080/",
     "height": 34
    },
    "colab_type": "code",
    "id": "1WNsBXFyltng",
    "outputId": "33f0ee4b-b205-49f8-97ea-e8d158790394"
   },
   "outputs": [],
   "source": [
    "'4 X 4' not in Accesorios"
   ]
  },
  {
   "cell_type": "markdown",
   "metadata": {
    "colab_type": "text",
    "id": "RF6_rf90ltnh"
   },
   "source": [
    "## *A + B*\n",
    "\n",
    "Concatena as listas *A* e *B*."
   ]
  },
  {
   "cell_type": "code",
   "execution_count": null,
   "metadata": {
    "colab": {},
    "colab_type": "code",
    "id": "8lnzbYnRltnh"
   },
   "outputs": [],
   "source": [
    "A = ['Llantas de aleación', 'Cerraduras elétricas', 'Piloto automático', 'Asientos de cuero']\n",
    "B = ['Aire condicionado', 'Sensor de estacionamento', 'Sensor crepuscular', 'Sensor de lluvia']"
   ]
  },
  {
   "cell_type": "code",
   "execution_count": null,
   "metadata": {
    "colab": {
     "base_uri": "https://localhost:8080/",
     "height": 34
    },
    "colab_type": "code",
    "id": "SzbiHHF4ltni",
    "outputId": "162c076d-a363-4824-9373-8e3cc8b87fc4"
   },
   "outputs": [],
   "source": [
    "A"
   ]
  },
  {
   "cell_type": "code",
   "execution_count": null,
   "metadata": {
    "colab": {
     "base_uri": "https://localhost:8080/",
     "height": 85
    },
    "colab_type": "code",
    "id": "It5Cn5aXltni",
    "outputId": "8bb676f0-e220-44ec-f1a9-9bb6459fc119"
   },
   "outputs": [],
   "source": [
    "B"
   ]
  },
  {
   "cell_type": "code",
   "execution_count": null,
   "metadata": {
    "colab": {
     "base_uri": "https://localhost:8080/",
     "height": 153
    },
    "colab_type": "code",
    "id": "l7gF4Ph5ltnj",
    "outputId": "ccef553c-14ea-44eb-a918-1cda3871bd9f"
   },
   "outputs": [],
   "source": [
    "A + B"
   ]
  },
  {
   "cell_type": "markdown",
   "metadata": {
    "colab_type": "text",
    "id": "iTv5t7zAltnk"
   },
   "source": [
    "## *len(A)*\n",
    "\n",
    "Tamanho da lista A."
   ]
  },
  {
   "cell_type": "code",
   "execution_count": null,
   "metadata": {
    "colab": {
     "base_uri": "https://localhost:8080/",
     "height": 34
    },
    "colab_type": "code",
    "id": "dtbuCDSOltnk",
    "outputId": "a7ec9c6e-ff92-47c5-92ba-339443af6695"
   },
   "outputs": [],
   "source": [
    "len(Accesorios)"
   ]
  },
  {
   "cell_type": "markdown",
   "metadata": {
    "colab_type": "text",
    "id": "k7wWCbAmltnl"
   },
   "source": [
    "# 3.3 Selecciones en listas"
   ]
  },
  {
   "cell_type": "markdown",
   "metadata": {
    "colab_type": "text",
    "id": "uF3NmgUaltnl"
   },
   "source": [
    "## *A[ i ]*\n",
    "\n",
    "Retorna el i-ésimo item de la lista *A*.\n",
    "\n",
    "<font color=red>**Observación:**</font> Listas tienen indexación con origen en cero."
   ]
  },
  {
   "cell_type": "code",
   "execution_count": null,
   "metadata": {
    "colab": {
     "base_uri": "https://localhost:8080/",
     "height": 153
    },
    "colab_type": "code",
    "id": "f5ct7w1Wltnm",
    "outputId": "8864edf0-b235-4edc-e484-41cbe786e376"
   },
   "outputs": [],
   "source": [
    "Accesorios"
   ]
  },
  {
   "cell_type": "code",
   "execution_count": null,
   "metadata": {
    "colab": {
     "base_uri": "https://localhost:8080/",
     "height": 34
    },
    "colab_type": "code",
    "id": "-BLG7yifltnn",
    "outputId": "64bb04b6-6e31-4bfc-e25a-1c6230df80b1"
   },
   "outputs": [],
   "source": [
    "Accesorios[0]"
   ]
  },
  {
   "cell_type": "code",
   "execution_count": null,
   "metadata": {
    "colab": {
     "base_uri": "https://localhost:8080/",
     "height": 34
    },
    "colab_type": "code",
    "id": "SoL6PIjJltno",
    "outputId": "93a81938-d5d2-4c7b-d824-4a17f902a5af"
   },
   "outputs": [],
   "source": [
    "Accesorios[1]"
   ]
  },
  {
   "cell_type": "code",
   "execution_count": null,
   "metadata": {
    "colab": {
     "base_uri": "https://localhost:8080/",
     "height": 34
    },
    "colab_type": "code",
    "id": "pGMDc5FLltnq",
    "outputId": "82b87444-5aba-4e5a-90c7-7b92f2ba8da6"
   },
   "outputs": [],
   "source": [
    "Accesorios[-1]"
   ]
  },
  {
   "cell_type": "code",
   "execution_count": null,
   "metadata": {
    "colab": {
     "base_uri": "https://localhost:8080/",
     "height": 255
    },
    "colab_type": "code",
    "id": "m3AaFe73ltnr",
    "outputId": "f9ba9cc5-d61b-42f3-9cf6-1ac312d4e289"
   },
   "outputs": [],
   "source": [
    "Autos"
   ]
  },
  {
   "cell_type": "code",
   "execution_count": null,
   "metadata": {
    "colab": {
     "base_uri": "https://localhost:8080/",
     "height": 136
    },
    "colab_type": "code",
    "id": "AeDJviqoltns",
    "outputId": "790ec9f0-163c-4a9c-c513-2528f13ba7fa"
   },
   "outputs": [],
   "source": [
    "Autos[0]"
   ]
  },
  {
   "cell_type": "code",
   "execution_count": null,
   "metadata": {
    "colab": {
     "base_uri": "https://localhost:8080/",
     "height": 34
    },
    "colab_type": "code",
    "id": "KdenG1BZltnt",
    "outputId": "4dbc4088-d019-435a-9535-f4e75ebf70ff"
   },
   "outputs": [],
   "source": [
    "Autos[0][0]"
   ]
  },
  {
   "cell_type": "code",
   "execution_count": null,
   "metadata": {
    "colab": {
     "base_uri": "https://localhost:8080/",
     "height": 34
    },
    "colab_type": "code",
    "id": "iOjsfrlFltnu",
    "outputId": "767453aa-804f-46a0-b79f-758c68793f4c"
   },
   "outputs": [],
   "source": [
    "Autos[0][-2]"
   ]
  },
  {
   "cell_type": "code",
   "execution_count": null,
   "metadata": {
    "colab": {
     "base_uri": "https://localhost:8080/",
     "height": 34
    },
    "colab_type": "code",
    "id": "6BrON70Zltnu",
    "outputId": "0a0bd591-f421-4ee7-8312-86ae4991622e"
   },
   "outputs": [],
   "source": [
    "Autos[0][-2][1]"
   ]
  },
  {
   "cell_type": "markdown",
   "metadata": {
    "colab_type": "text",
    "id": "9WgwxPIMltnv"
   },
   "source": [
    "## *A[ i : j ]*\n",
    "\n",
    "Recorta a lista *A* do índice i até o j. Neste fatiamento o elemento com índice i é **incluído** e o elemento com índice j **não é incluído** no resultado."
   ]
  },
  {
   "cell_type": "code",
   "execution_count": null,
   "metadata": {
    "colab": {
     "base_uri": "https://localhost:8080/",
     "height": 153
    },
    "colab_type": "code",
    "id": "bJzL2PMiltnv",
    "outputId": "de15a5a4-7c50-4916-c8ec-3754a639c125"
   },
   "outputs": [],
   "source": [
    "Accesorios"
   ]
  },
  {
   "cell_type": "code",
   "execution_count": null,
   "metadata": {
    "colab": {
     "base_uri": "https://localhost:8080/",
     "height": 34
    },
    "colab_type": "code",
    "id": "sFAlJ4u_ltnw",
    "outputId": "96a8da29-e9f1-4f96-f00b-6c2556ff6026"
   },
   "outputs": [],
   "source": [
    "Accesorios[2:5]"
   ]
  },
  {
   "cell_type": "code",
   "execution_count": null,
   "metadata": {
    "colab": {
     "base_uri": "https://localhost:8080/",
     "height": 119
    },
    "colab_type": "code",
    "id": "dFdTBWa9ltnz",
    "outputId": "efcd12b4-1261-45e6-ffbe-142117008855"
   },
   "outputs": [],
   "source": [
    "Accesorios[2:]"
   ]
  },
  {
   "cell_type": "code",
   "execution_count": null,
   "metadata": {
    "colab": {
     "base_uri": "https://localhost:8080/",
     "height": 102
    },
    "colab_type": "code",
    "id": "yxxB2-_Dltn0",
    "outputId": "c85fde97-c2f0-4a4c-d525-768dd783d82b"
   },
   "outputs": [],
   "source": [
    "Accesorios[:5]"
   ]
  },
  {
   "cell_type": "markdown",
   "metadata": {
    "colab_type": "text",
    "id": "R-S-LCPGltn0"
   },
   "source": [
    "# 3.4 Métodos de listas\n",
    "\n",
    "https://docs.python.org/3.6/library/stdtypes.html#mutable-sequence-types"
   ]
  },
  {
   "cell_type": "code",
   "execution_count": null,
   "metadata": {
    "colab": {},
    "colab_type": "code",
    "id": "2siXqYSlAjHR"
   },
   "outputs": [],
   "source": [
    "Accesorios = ['Llantas de aleación', 'Cerraduras elétricas', 'Piloto automático', 'Asientos de cuero', 'Aire acondicionado', 'Sensor de estacionamento', 'Sensor crepuscular', 'Sensor de lluvia']"
   ]
  },
  {
   "cell_type": "markdown",
   "metadata": {
    "colab_type": "text",
    "id": "j9s2OyyPltn1"
   },
   "source": [
    "## *A.sort()*\n",
    "\n",
    "Ordena a lista *A*."
   ]
  },
  {
   "cell_type": "code",
   "execution_count": null,
   "metadata": {
    "colab": {
     "base_uri": "https://localhost:8080/",
     "height": 153
    },
    "colab_type": "code",
    "id": "A2dJGhFsltn1",
    "outputId": "9fb74514-57f7-4b03-cbcd-5d533d29cc9e"
   },
   "outputs": [],
   "source": [
    "Accesorios"
   ]
  },
  {
   "cell_type": "code",
   "execution_count": null,
   "metadata": {
    "colab": {
     "base_uri": "https://localhost:8080/",
     "height": 153
    },
    "colab_type": "code",
    "id": "VDWCHlTcltn2",
    "outputId": "143eb792-177f-4acc-af75-130c2eb16426"
   },
   "outputs": [],
   "source": [
    "Accesorios.sort()\n",
    "Accesorios"
   ]
  },
  {
   "cell_type": "markdown",
   "metadata": {
    "colab_type": "text",
    "id": "N9Spp7-xltn3"
   },
   "source": [
    "## *A.append(x)*\n",
    "\n",
    "Adiciona o elemento *x* no final da lista *A*."
   ]
  },
  {
   "cell_type": "code",
   "execution_count": null,
   "metadata": {
    "colab": {
     "base_uri": "https://localhost:8080/",
     "height": 170
    },
    "colab_type": "code",
    "id": "l7I_U-sRltn4",
    "outputId": "1a78841b-2724-47d2-8f25-509d51507cfe"
   },
   "outputs": [],
   "source": [
    "Accesorios.append('4 X 4')\n",
    "Accesorios"
   ]
  },
  {
   "cell_type": "markdown",
   "metadata": {
    "colab_type": "text",
    "id": "eiP3oACPltn6"
   },
   "source": [
    "## *A.pop(i)*\n",
    "\n",
    "Remove e retorna o elemento de índice i da lista *A*.\n",
    "\n",
    "<font color=red>**Observação:**</font> Por *default* o método *pop()* remove e retorna o último elemento de uma lista."
   ]
  },
  {
   "cell_type": "code",
   "execution_count": null,
   "metadata": {
    "colab": {
     "base_uri": "https://localhost:8080/",
     "height": 34
    },
    "colab_type": "code",
    "id": "BoCKa5Hqltn6",
    "outputId": "96215373-89e4-4eeb-f556-7da3428b3a35"
   },
   "outputs": [],
   "source": [
    "Accesorios.pop()"
   ]
  },
  {
   "cell_type": "code",
   "execution_count": null,
   "metadata": {
    "colab": {
     "base_uri": "https://localhost:8080/",
     "height": 153
    },
    "colab_type": "code",
    "id": "GfGX1jw-ltn9",
    "outputId": "ee1ff47f-5e2d-4eba-f098-91d5302702c3"
   },
   "outputs": [],
   "source": [
    "Accesorios"
   ]
  },
  {
   "cell_type": "code",
   "execution_count": null,
   "metadata": {
    "colab": {
     "base_uri": "https://localhost:8080/",
     "height": 34
    },
    "colab_type": "code",
    "id": "tppe9tqbltn-",
    "outputId": "e22fbedc-c4dc-48a0-97a9-2aa91bc73489"
   },
   "outputs": [],
   "source": [
    "Accesorios.pop(3)"
   ]
  },
  {
   "cell_type": "code",
   "execution_count": null,
   "metadata": {
    "colab": {
     "base_uri": "https://localhost:8080/",
     "height": 136
    },
    "colab_type": "code",
    "id": "Ku6ZHTdJltn_",
    "outputId": "ee042ee6-f301-4dc7-845e-2f69ce869202"
   },
   "outputs": [],
   "source": [
    "Accesorios"
   ]
  },
  {
   "cell_type": "markdown",
   "metadata": {
    "colab_type": "text",
    "id": "NySIp62hltoC"
   },
   "source": [
    "## *A.copy()*\n",
    "\n",
    "Cria uma cópia da lista *A*.\n",
    "\n",
    "<font color=red>**Observação:**</font> O mesmo resultado pode ser obtido com o seguinte código: \n",
    "```\n",
    "A[:]\n",
    "```"
   ]
  },
  {
   "cell_type": "code",
   "execution_count": null,
   "metadata": {
    "colab": {
     "base_uri": "https://localhost:8080/",
     "height": 136
    },
    "colab_type": "code",
    "id": "yP9ODygcltoC",
    "outputId": "54d584d6-42c1-410f-f477-93d470ab12d9"
   },
   "outputs": [],
   "source": [
    "Accesorios_2 = Accesorios\n",
    "Accesorios_2"
   ]
  },
  {
   "cell_type": "code",
   "execution_count": null,
   "metadata": {
    "colab": {
     "base_uri": "https://localhost:8080/",
     "height": 153
    },
    "colab_type": "code",
    "id": "W3eQdVWkltoF",
    "outputId": "fa3c1319-370c-4352-84c9-ab90b52194f6"
   },
   "outputs": [],
   "source": [
    "Accesorios_2.append('4 X 4')\n",
    "Accesorios_2"
   ]
  },
  {
   "cell_type": "code",
   "execution_count": null,
   "metadata": {
    "colab": {
     "base_uri": "https://localhost:8080/",
     "height": 153
    },
    "colab_type": "code",
    "id": "OVbvjjmdltoG",
    "outputId": "02aa1d88-56f8-41db-f19b-cce4437cc553"
   },
   "outputs": [],
   "source": [
    "Accesorios"
   ]
  },
  {
   "cell_type": "code",
   "execution_count": null,
   "metadata": {
    "colab": {
     "base_uri": "https://localhost:8080/",
     "height": 136
    },
    "colab_type": "code",
    "id": "P-MN1JfAltoH",
    "outputId": "4c32f833-c810-4521-a527-87b135bc037e"
   },
   "outputs": [],
   "source": [
    "Accesorios.pop()\n",
    "Accesorios"
   ]
  },
  {
   "cell_type": "code",
   "execution_count": null,
   "metadata": {
    "colab": {
     "base_uri": "https://localhost:8080/",
     "height": 136
    },
    "colab_type": "code",
    "id": "ZVQ38eqVltoJ",
    "outputId": "ed28e52e-28c6-4898-c6d1-92094016d94a"
   },
   "outputs": [],
   "source": [
    "Accesorios_2"
   ]
  },
  {
   "cell_type": "code",
   "execution_count": null,
   "metadata": {
    "colab": {
     "base_uri": "https://localhost:8080/",
     "height": 136
    },
    "colab_type": "code",
    "id": "bqPiw5wSltoM",
    "outputId": "62eb941d-e444-4fe8-8374-b3b6ed9866df"
   },
   "outputs": [],
   "source": [
    "Accesorios_2 = Accesorios.copy()\n",
    "Accesorios_2"
   ]
  },
  {
   "cell_type": "code",
   "execution_count": null,
   "metadata": {
    "colab": {
     "base_uri": "https://localhost:8080/",
     "height": 153
    },
    "colab_type": "code",
    "id": "Lo9WgzF6ltoP",
    "outputId": "4b20eda4-d273-4c16-9205-2ef1b803e376"
   },
   "outputs": [],
   "source": [
    "Accesorios_2.append('4 X 4')\n",
    "Accesorios_2"
   ]
  },
  {
   "cell_type": "code",
   "execution_count": null,
   "metadata": {
    "colab": {
     "base_uri": "https://localhost:8080/",
     "height": 136
    },
    "colab_type": "code",
    "id": "r2LPHB34ltoQ",
    "outputId": "213b9621-cd22-4af6-b85b-b1f5630228b2"
   },
   "outputs": [],
   "source": [
    "Accesorios"
   ]
  },
  {
   "cell_type": "code",
   "execution_count": null,
   "metadata": {
    "colab": {
     "base_uri": "https://localhost:8080/",
     "height": 136
    },
    "colab_type": "code",
    "id": "UQqUkO8YltoR",
    "outputId": "4736846d-298e-4572-c574-e22f2f27d579"
   },
   "outputs": [],
   "source": [
    "Accesorios_2 = Accesorios[:]\n",
    "Accesorios_2"
   ]
  },
  {
   "cell_type": "markdown",
   "metadata": {
    "colab_type": "text",
    "id": "8zMZNsg2ltoU"
   },
   "source": [
    "# <font color=green> 4. ESTRUTURAS DE REPETIÇÃO E CONDICIONAIS\n",
    "---"
   ]
  },
  {
   "cell_type": "markdown",
   "metadata": {
    "colab_type": "text",
    "id": "gxUmCLyJltoU"
   },
   "source": [
    "# 4.1 Instrução *for*\n",
    "\n",
    "#### Formato padrão\n",
    "\n",
    "```\n",
    "for <variável> in <coleção>:\n",
    "    <instruções>\n",
    "```"
   ]
  },
  {
   "cell_type": "markdown",
   "metadata": {
    "colab_type": "text",
    "id": "Irl5oa0altoU"
   },
   "source": [
    "### Loops com listas"
   ]
  },
  {
   "cell_type": "code",
   "execution_count": null,
   "metadata": {
    "colab": {
     "base_uri": "https://localhost:8080/",
     "height": 153
    },
    "colab_type": "code",
    "id": "BaXtCB-IJDf5",
    "outputId": "40a08937-3ef8-40bd-fc9b-4566aa975272"
   },
   "outputs": [],
   "source": [
    "Accesorios = ['Llantas de aleación', 'Cerraduras elétricas', 'Piloto automático', 'Asientos de cuero', 'Aire acondicionado', 'Sensor de estacionamento', 'Sensor crepuscular', 'Sensor de lluvia']\n",
    "Accesorios"
   ]
  },
  {
   "cell_type": "code",
   "execution_count": null,
   "metadata": {
    "colab": {
     "base_uri": "https://localhost:8080/",
     "height": 153
    },
    "colab_type": "code",
    "id": "Z459QqsFltoY",
    "outputId": "e9738899-0ed8-49f7-8f6d-78ac71bde218"
   },
   "outputs": [],
   "source": [
    "for item in Accesorios:\n",
    "  print(item)"
   ]
  },
  {
   "cell_type": "markdown",
   "metadata": {
    "colab_type": "text",
    "id": "Gbztj9T4ltoZ"
   },
   "source": [
    "###  List comprehensions\n",
    "\n",
    "https://docs.python.org/3.6/tutorial/datastructures.html#list-comprehensions"
   ]
  },
  {
   "cell_type": "markdown",
   "metadata": {
    "colab_type": "text",
    "id": "4Y8g0cSHjbof"
   },
   "source": [
    "*range()* -> https://docs.python.org/3.6/library/functions.html#func-range"
   ]
  },
  {
   "cell_type": "code",
   "execution_count": null,
   "metadata": {
    "colab": {
     "base_uri": "https://localhost:8080/",
     "height": 34
    },
    "colab_type": "code",
    "id": "xDo9TLdYltoZ",
    "outputId": "ba818a70-81bd-4f53-8e20-d6f22d4a4523"
   },
   "outputs": [],
   "source": [
    "range(10)"
   ]
  },
  {
   "cell_type": "code",
   "execution_count": null,
   "metadata": {
    "colab": {
     "base_uri": "https://localhost:8080/",
     "height": 34
    },
    "colab_type": "code",
    "id": "V12p_CQBltoc",
    "outputId": "05e3e80a-3303-414a-bd9a-f8034a1d7722"
   },
   "outputs": [],
   "source": [
    "list(range(10))"
   ]
  },
  {
   "cell_type": "code",
   "execution_count": null,
   "metadata": {
    "colab": {
     "base_uri": "https://localhost:8080/",
     "height": 187
    },
    "colab_type": "code",
    "id": "OOzHHRWHltof",
    "outputId": "4175aee1-1a4e-49ea-9380-4c4334ad6536"
   },
   "outputs": [],
   "source": [
    "for i in range(10):\n",
    "  print(i ** 2)"
   ]
  },
  {
   "cell_type": "code",
   "execution_count": null,
   "metadata": {
    "colab": {
     "base_uri": "https://localhost:8080/",
     "height": 34
    },
    "colab_type": "code",
    "id": "TKynwnxgltog",
    "outputId": "c2e757a9-de60-4fc6-a7f7-9524cb8f9fdb"
   },
   "outputs": [],
   "source": [
    "quadrado = []\n",
    "for i in range(10):\n",
    "  quadrado.append(i ** 2)\n",
    "  \n",
    "quadrado"
   ]
  },
  {
   "cell_type": "code",
   "execution_count": null,
   "metadata": {
    "colab": {
     "base_uri": "https://localhost:8080/",
     "height": 34
    },
    "colab_type": "code",
    "id": "d77YH_dVltoh",
    "outputId": "e55b7f43-a2cc-4c99-f0e2-65c237e42387"
   },
   "outputs": [],
   "source": [
    "[i ** 2 for i in range(10)]"
   ]
  },
  {
   "cell_type": "markdown",
   "metadata": {
    "colab_type": "text",
    "id": "AcAcaKFXltom"
   },
   "source": [
    "# 4.2 Loops aninhados"
   ]
  },
  {
   "cell_type": "code",
   "execution_count": null,
   "metadata": {
    "colab": {
     "base_uri": "https://localhost:8080/",
     "height": 425
    },
    "colab_type": "code",
    "id": "mjgJCo3dlton",
    "outputId": "c0f29b76-ec59-4ba0-cd56-45a0da8c9428"
   },
   "outputs": [],
   "source": [
    "datos = [ \n",
    "    ['Llantas de aleación', 'Cerraduras elétricas', 'Piloto automático', 'Asientos de cuero', 'Aire acondicionado', 'Sensor de estacionamento', 'Sensor crepuscular', 'Sensor de lluvia'],\n",
    "    ['Central multimídia', 'Techo panorâmico', 'Frenos ABS', '4 X 4', 'Panel digital', 'Piloto automático', 'Asientos de cuero', 'Cámara de estacionamiento'],\n",
    "    ['Piloto automático', 'Control de estabilidad', 'Sensor crepuscular', 'Frenos ABS', 'Cambio automático', 'Asientos de cuero', 'Central multimídia', 'Vidros eléctricos']\n",
    "]\n",
    "datos"
   ]
  },
  {
   "cell_type": "code",
   "execution_count": null,
   "metadata": {
    "colab": {
     "base_uri": "https://localhost:8080/",
     "height": 88
    },
    "colab_type": "code",
    "id": "pLgxwApVltop",
    "outputId": "58b13774-b1b7-45d9-df2f-05b8cf6ff8eb"
   },
   "outputs": [],
   "source": [
    "for lista in datos:\n",
    "  print(lista)"
   ]
  },
  {
   "cell_type": "code",
   "execution_count": null,
   "metadata": {
    "colab": {
     "base_uri": "https://localhost:8080/",
     "height": 425
    },
    "colab_type": "code",
    "id": "OYnDRvcYltor",
    "outputId": "b5b17d0a-0421-4cae-b8b9-6cbb5813ba85"
   },
   "outputs": [],
   "source": [
    "for lista in datos:\n",
    "  for item in lista:\n",
    "    print(item)"
   ]
  },
  {
   "cell_type": "code",
   "execution_count": null,
   "metadata": {
    "colab": {
     "base_uri": "https://localhost:8080/",
     "height": 425
    },
    "colab_type": "code",
    "id": "DbJa5_cJltos",
    "outputId": "4c9636c4-26b6-4ee4-dfe0-e45467129616"
   },
   "outputs": [],
   "source": [
    "Accesorios = []\n",
    "\n",
    "for lista in datos:\n",
    "  for item in lista:\n",
    "    Accesorios.append(item)\n",
    "    \n",
    "Accesorios"
   ]
  },
  {
   "cell_type": "markdown",
   "metadata": {
    "colab_type": "text",
    "id": "RrGAOy1rn1Dj"
   },
   "source": [
    "## *set()*\n",
    "\n",
    "https://docs.python.org/3.6/library/stdtypes.html#types-set\n"
   ]
  },
  {
   "cell_type": "code",
   "execution_count": null,
   "metadata": {
    "colab": {
     "base_uri": "https://localhost:8080/",
     "height": 306
    },
    "colab_type": "code",
    "id": "CuB-9ClSltos",
    "outputId": "3d1af15e-63eb-4bd3-c948-949b264e7ef4"
   },
   "outputs": [],
   "source": [
    "list(set(Accesorios))"
   ]
  },
  {
   "cell_type": "markdown",
   "metadata": {
    "colab_type": "text",
    "id": "9hHKKABhltot"
   },
   "source": [
    "### List comprehensions"
   ]
  },
  {
   "cell_type": "code",
   "execution_count": null,
   "metadata": {
    "colab": {
     "base_uri": "https://localhost:8080/",
     "height": 425
    },
    "colab_type": "code",
    "id": "T6t79LTlltot",
    "outputId": "83e1cad0-d46a-4f53-8a4b-2fb58840f15f"
   },
   "outputs": [],
   "source": [
    "[item for lista in datos for item in lista]"
   ]
  },
  {
   "cell_type": "code",
   "execution_count": null,
   "metadata": {
    "colab": {
     "base_uri": "https://localhost:8080/",
     "height": 306
    },
    "colab_type": "code",
    "id": "Vhvuh3l8bvHZ",
    "outputId": "4d141bf6-783f-47f8-95fc-d23a718925b4"
   },
   "outputs": [],
   "source": [
    "list(set([item for lista in datos for item in lista]))"
   ]
  },
  {
   "cell_type": "markdown",
   "metadata": {
    "colab_type": "text",
    "id": "cJ4fPdj5ltou"
   },
   "source": [
    "# 4.3 Instrucción *if*\n",
    "\n",
    "#### Formato padrón\n",
    "\n",
    "```\n",
    "if <condición>:\n",
    "     <instruciones en caso la condición sea  verdadera>\n",
    "```"
   ]
  },
  {
   "cell_type": "markdown",
   "metadata": {
    "colab_type": "text",
    "id": "bqOYDJiWltou"
   },
   "source": [
    "### Operadores de comparación: $==$, $!=$, $>$, $<$, $>=$, $<=$\n",
    "### y\n",
    "### Operadores lógicos: $and$, $or$, $not$"
   ]
  },
  {
   "cell_type": "code",
   "execution_count": null,
   "metadata": {
    "colab": {
     "base_uri": "https://localhost:8080/",
     "height": 187
    },
    "colab_type": "code",
    "id": "5eY_XPmrltov",
    "outputId": "dfa39914-bff9-4ed6-b4d9-0386ea0f6c2b"
   },
   "outputs": [],
   "source": [
    "# 1º item de la lista - Nombre del vehículo\n",
    "# 2º item de la lista - Año de fabricación\n",
    "# 3º item de la lista - Vehículo es cero km?\n",
    "\n",
    "datos = [\n",
    "    ['Jetta Variant', 2003, False],\n",
    "    ['Passat', 1991, False],\n",
    "    ['Crossfox', 1990, False],\n",
    "    ['DS5', 2019, True],\n",
    "    ['Aston Martin DB4', 2006, False],\n",
    "    ['Palio Weekend', 2012, False],\n",
    "    ['A5', 2019, True],\n",
    "    ['Série 3 Cabrio', 2009, False],\n",
    "    ['Dodge Jorney', 2019, False],\n",
    "    ['Carens', 2011, False]\n",
    "]\n",
    "datos"
   ]
  },
  {
   "cell_type": "code",
   "execution_count": null,
   "metadata": {
    "colab": {
     "base_uri": "https://localhost:8080/",
     "height": 34
    },
    "colab_type": "code",
    "id": "nyb0iDH1ltoy",
    "outputId": "e5541ea2-6c8d-40a3-a7b5-8667e20567f6"
   },
   "outputs": [],
   "source": [
    "zero_km_Y = []\n",
    "\n",
    "for lista in datos:\n",
    "  if(lista[2] == True):\n",
    "    zero_km_Y.append(lista)\n",
    "    \n",
    "zero_km_Y"
   ]
  },
  {
   "cell_type": "code",
   "execution_count": null,
   "metadata": {
    "colab": {
     "base_uri": "https://localhost:8080/",
     "height": 153
    },
    "colab_type": "code",
    "id": "5MlITJppltoy",
    "outputId": "a47edb79-e00e-460f-c381-bb4af70cb09e"
   },
   "outputs": [],
   "source": [
    "zero_km_N = []\n",
    "\n",
    "for lista in datos:\n",
    "  if(lista[2] == False):\n",
    "    zero_km_N.append(lista)\n",
    "    \n",
    "zero_km_N"
   ]
  },
  {
   "cell_type": "markdown",
   "metadata": {
    "colab_type": "text",
    "id": "51Js0kXD0aRH"
   },
   "source": [
    "### List comprehensions"
   ]
  },
  {
   "cell_type": "code",
   "execution_count": null,
   "metadata": {
    "colab": {
     "base_uri": "https://localhost:8080/",
     "height": 34
    },
    "colab_type": "code",
    "id": "Ly4QUX5J0aRI",
    "outputId": "dd66e50c-ca18-4041-c62f-080fa8782d9f"
   },
   "outputs": [],
   "source": [
    "[lista for lista in datos if lista[2] == True]"
   ]
  },
  {
   "cell_type": "markdown",
   "metadata": {
    "colab_type": "text",
    "id": "CKjrvO5Tltoz"
   },
   "source": [
    "# 4.4 Instrucciones *if-else* e *if-elif-else*\n",
    "\n",
    "#### Formato padrón\n",
    "\n",
    "```\n",
    "if <condición>:\n",
    "    <instrucciones en caso la condición sea verdadera>\n",
    "else:\n",
    "    <instrucciones en caso la condición no sea verdadera>\n",
    "```"
   ]
  },
  {
   "cell_type": "code",
   "execution_count": null,
   "metadata": {
    "colab": {},
    "colab_type": "code",
    "id": "K_VORb47ltoz"
   },
   "outputs": [],
   "source": [
    "zero_km_Y, zero_km_N = [], []\n",
    "\n",
    "for lista in datos:\n",
    "  if(lista[2] == True):\n",
    "    zero_km_Y.append(lista)\n",
    "  else:\n",
    "    zero_km_N.append(lista)"
   ]
  },
  {
   "cell_type": "code",
   "execution_count": null,
   "metadata": {
    "colab": {
     "base_uri": "https://localhost:8080/",
     "height": 34
    },
    "colab_type": "code",
    "id": "vhz5T7jDlto1",
    "outputId": "8c0db05e-ab1b-43a9-e506-acbd951309dd"
   },
   "outputs": [],
   "source": [
    "zero_km_Y"
   ]
  },
  {
   "cell_type": "code",
   "execution_count": null,
   "metadata": {
    "colab": {
     "base_uri": "https://localhost:8080/",
     "height": 153
    },
    "colab_type": "code",
    "id": "XlvlpPjhlto1",
    "outputId": "4aead204-889c-4636-9259-c2f8e2b954f5"
   },
   "outputs": [],
   "source": [
    "zero_km_N"
   ]
  },
  {
   "cell_type": "markdown",
   "metadata": {
    "colab_type": "text",
    "id": "Z2-8WeN1lto2"
   },
   "source": [
    "#### Formato padrón\n",
    "\n",
    "```\n",
    "if <condición 1>:\n",
    "    <instrucciones en caso la condición 1 sea verdadera>\n",
    "elif <condição 2>:\n",
    "    <instrucciones en caso la condición 2 sea verdadera>\n",
    "elif <condição 3>:\n",
    "    <instrucciones en caso la condición 3 sea verdadera>\n",
    "                        .\n",
    "                        .\n",
    "                        .\n",
    "else:\n",
    "    <instrucciones en caso las condiciones anteriores no sean verdaderas>\n",
    "```"
   ]
  },
  {
   "cell_type": "code",
   "execution_count": null,
   "metadata": {
    "colab": {
     "base_uri": "https://localhost:8080/",
     "height": 187
    },
    "colab_type": "code",
    "id": "ggrbaB4Tlto2",
    "outputId": "51b9ddf0-a96f-46a7-a281-2f8c9c6e2171"
   },
   "outputs": [],
   "source": [
    "datos"
   ]
  },
  {
   "cell_type": "code",
   "execution_count": null,
   "metadata": {
    "colab": {
     "base_uri": "https://localhost:8080/",
     "height": 102
    },
    "colab_type": "code",
    "id": "KJgRc1F9lto3",
    "outputId": "4ae7bd3c-1397-45c7-b773-ac968ea37f59"
   },
   "outputs": [],
   "source": [
    "print('AND')\n",
    "print(f'(True and True) el resultado es: {True and True}')\n",
    "print(f'(True and False) el resultado es: {True and False}')\n",
    "print(f'(False and True) el resultado es: {False and True}')\n",
    "print(f'(False and False) el resultado es: {False and False}')"
   ]
  },
  {
   "cell_type": "code",
   "execution_count": null,
   "metadata": {
    "colab": {
     "base_uri": "https://localhost:8080/",
     "height": 102
    },
    "colab_type": "code",
    "id": "sb0mSh-o0aRM",
    "outputId": "9a94b896-d4af-4e99-a4a2-cc65da7b088c"
   },
   "outputs": [],
   "source": [
    "print('OR')\n",
    "print(f'(True or True) el resultado es: {True or True}')\n",
    "print(f'(True or False) el resultado es: {True or False}')\n",
    "print(f'(False or True) el resultado es: {False or True}')\n",
    "print(f'(False or False) el resultado es: {False or False}')"
   ]
  },
  {
   "cell_type": "code",
   "execution_count": null,
   "metadata": {
    "colab": {},
    "colab_type": "code",
    "id": "AfNdTPzElto3"
   },
   "outputs": [],
   "source": [
    "A, B, C = [], [], []\n",
    "\n",
    "for lista in datos:\n",
    "  if(lista[1] <=2000):\n",
    "    A.append(lista)\n",
    "  elif(lista[1] > 2000 and lista[1] <= 2010):\n",
    "    B.append(lista)\n",
    "  else:\n",
    "    C.append(lista)"
   ]
  },
  {
   "cell_type": "code",
   "execution_count": null,
   "metadata": {
    "colab": {
     "base_uri": "https://localhost:8080/",
     "height": 34
    },
    "colab_type": "code",
    "id": "5bN7SuvTlto4",
    "outputId": "f028696d-0ab9-4f96-c004-b471aa19eedf"
   },
   "outputs": [],
   "source": [
    "A"
   ]
  },
  {
   "cell_type": "code",
   "execution_count": null,
   "metadata": {
    "colab": {
     "base_uri": "https://localhost:8080/",
     "height": 68
    },
    "colab_type": "code",
    "id": "dDEl3Vfglto4",
    "outputId": "4a27e533-c13f-44db-dfeb-671daf0771b9"
   },
   "outputs": [],
   "source": [
    "B"
   ]
  },
  {
   "cell_type": "code",
   "execution_count": null,
   "metadata": {
    "colab": {
     "base_uri": "https://localhost:8080/",
     "height": 102
    },
    "colab_type": "code",
    "id": "Ot4HLQlelto5",
    "outputId": "af8473c0-ba79-4cad-aab4-832561d98264"
   },
   "outputs": [],
   "source": [
    "C"
   ]
  },
  {
   "cell_type": "code",
   "execution_count": null,
   "metadata": {
    "colab": {},
    "colab_type": "code",
    "id": "FN26ZBKJlto5"
   },
   "outputs": [],
   "source": [
    "A, B, C = [], [], []\n",
    "\n",
    "for lista in datos:\n",
    "  if(lista[1] <=2000):\n",
    "    A.append(lista)\n",
    "  elif(2000 < lista[1] <= 2010):\n",
    "    B.append(lista)\n",
    "  else:\n",
    "    C.append(lista)"
   ]
  }
 ],
 "metadata": {
  "colab": {
   "name": "Python_Data_Science_Numpy.ipynb",
   "provenance": []
  },
  "kernelspec": {
   "display_name": "Python 3",
   "language": "python",
   "name": "python3"
  },
  "language_info": {
   "codemirror_mode": {
    "name": "ipython",
    "version": 3
   },
   "file_extension": ".py",
   "mimetype": "text/x-python",
   "name": "python",
   "nbconvert_exporter": "python",
   "pygments_lexer": "ipython3",
   "version": "3.7.4"
  }
 },
 "nbformat": 4,
 "nbformat_minor": 1
}
