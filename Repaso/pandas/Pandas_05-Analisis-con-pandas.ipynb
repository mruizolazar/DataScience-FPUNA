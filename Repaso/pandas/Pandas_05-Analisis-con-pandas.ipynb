{
 "cells": [
  {
   "cell_type": "markdown",
   "metadata": {
    "colab_type": "text",
    "id": "4a2ABC3a0hGT"
   },
   "source": [
    "# Introducción Simple a *pandas* "
   ]
  },
  {
   "cell_type": "markdown",
   "metadata": {
    "colab_type": "text",
    "id": "Wk6ifWij0hGZ"
   },
   "source": [
    "**Pandas** es una biblioteca de Python que proporciona herramientas de análisis de datos y estructuras de datos de alto rendimiento y fáciles de usar. Como la biblioteca principal y más completa para estos fines, ** pandas ** es fundamental para el análisis de datos de Python.\n",
    "\n",
    "Esta introducción está escrita como una alternativa a las presentaciones existentes, como la [introducción de 10 minutos presentada en la documentación oficial] (http://pandas.pydata.org/pandas-docs/stable/10min.html), y está destinada a proporcionar una presentación básica y ágil de las principales herramientas proporcionadas por **pandas**, que cubren la manipulación de datos, la lectura y la visualización, pero también otros comentarios puntuales según sea necesario, como una breve explicación sobre los archivos **.csv**. La introducción supone solo un conocimiento básico de Python."
   ]
  },
  {
   "cell_type": "markdown",
   "metadata": {
    "colab_type": "text",
    "id": "PDCGZQ5H0hGc"
   },
   "source": [
    "Comencemos con las importaciones, usaremos más allá de pandas, **numpy**, biblioteca para computación científica y **matplotlib**, biblioteca principal para visualización de datos, sin embargo, como veremos más adelante, pandas nos brinda facilidades con respecto a la visualización de datos, con métodos construidos en matplotlib, también importamos esta biblioteca para que, además de poder modificar estéticamente nuestros gráficos, haga que los gráficos sean más fáciles de mostrar. La línea en línea% matplotlib es parte de la magia de Jupyter y no debes ejecutarla si estás en otro IDE / Entorno."
   ]
  },
  {
   "cell_type": "code",
   "execution_count": null,
   "metadata": {
    "colab": {},
    "colab_type": "code",
    "id": "5YLHWeXX0hGd"
   },
   "outputs": [],
   "source": [
    "import pandas as pd\n",
    "import numpy as np\n",
    "import matplotlib.pyplot as plt\n",
    "\n",
    "%matplotlib inline"
   ]
  },
  {
   "cell_type": "markdown",
   "metadata": {
    "colab_type": "text",
    "id": "2R2ztnd_0hGj"
   },
   "source": [
    "Existen dos tipos principales de estruturas de datos en pandas:\n",
    " 1. **Series** \n",
    " 1. **DataFrame**"
   ]
  },
  {
   "cell_type": "markdown",
   "metadata": {
    "colab_type": "text",
    "id": "bvvIQNe00hGl"
   },
   "source": [
    "Una serie es como una matriz unidimensional, una lista de valores. Cada serie tiene un índice, `index`, que etiqueta cada elemento de la lista. A continuación creamos una serie de `notas`, el` índice` de esta Serie es la columna izquierda, que va de 0 a 4 en este caso, que pandas crea automáticamente, ya que no especificamos una lista de etiquetas."
   ]
  },
  {
   "cell_type": "code",
   "execution_count": null,
   "metadata": {
    "colab": {},
    "colab_type": "code",
    "id": "oKzNsJ0R0hGm",
    "outputId": "49d66a72-7700-45cc-be62-3fc6ffb2f981"
   },
   "outputs": [],
   "source": [
    "notas = pd.Series([2,7,5,10,6])\n",
    "notas"
   ]
  },
  {
   "cell_type": "markdown",
   "metadata": {
    "colab_type": "text",
    "id": "2NnDjSQJ0hGt"
   },
   "source": [
    "Ya podemos verificar aquí los atributos de nuestra Serie, comenzando con los valores y el índice, los dos atributos **fundamentales** en esta estructura:"
   ]
  },
  {
   "cell_type": "code",
   "execution_count": null,
   "metadata": {
    "colab": {},
    "colab_type": "code",
    "id": "guAxtCoW0hGu",
    "outputId": "5d3f6a16-2abf-4b51-e22f-0d7513d93b06"
   },
   "outputs": [],
   "source": [
    "notas.values"
   ]
  },
  {
   "cell_type": "code",
   "execution_count": null,
   "metadata": {
    "colab": {},
    "colab_type": "code",
    "id": "HUgqEgo50hGy",
    "outputId": "3a642c43-b991-4a96-c820-b85beef881a9"
   },
   "outputs": [],
   "source": [
    "notas.index"
   ]
  },
  {
   "cell_type": "markdown",
   "metadata": {
    "colab_type": "text",
    "id": "k8C1z5el0hG3"
   },
   "source": [
    "Debido a que al crear la Serie no proporcionamos un índice específico, pandas utiliza enteros positivos crecientes como valor predeterminado. Puede ser conveniente asignar un índice no estándar, suponiendo que se trata de notas de clase, podríamos utilizar nombres como índice:"
   ]
  },
  {
   "cell_type": "code",
   "execution_count": null,
   "metadata": {
    "colab": {},
    "colab_type": "code",
    "id": "pOKMJvbI0hG4",
    "outputId": "069ef552-6a3b-4c04-d4e9-4201dff48e46"
   },
   "outputs": [],
   "source": [
    "notas = pd.Series([2,7,5,10,6], index=[\"Wilfred\", \"Abbie\", \"Harry\", \"Julia\", \"Carrie\"])\n",
    "notas"
   ]
  },
  {
   "cell_type": "markdown",
   "metadata": {
    "colab_type": "text",
    "id": "PFDlu9190hG8"
   },
   "source": [
    "Index nos ayuda a hacer referencia a un cierto valor, nos permite acceder a los valores por su etiqueta:"
   ]
  },
  {
   "cell_type": "code",
   "execution_count": null,
   "metadata": {
    "colab": {},
    "colab_type": "code",
    "id": "PgTxduJs0hG-",
    "outputId": "c5f63eed-d712-4070-a7a1-ef34cda19ed1"
   },
   "outputs": [],
   "source": [
    "notas[\"Julia\"]"
   ]
  },
  {
   "cell_type": "markdown",
   "metadata": {
    "colab_type": "text",
    "id": "qf5XcklU0hHC"
   },
   "source": [
    "Otra facilidad proporcionada por el Dataframe son sus métodos que proporcionan información estadística sobre los valores, como **promedio** `.mean ()` y **desviación estándar** `.std ()`. Recomiendo al lector que investigue y verifique algunos de los métodos y atributos de la estructura usando `TAB` para la finalización automática del shell de Python, o simplemente revise la muy completa [documentación oficial] (https://pandas.pydata.org/pandas-docs/stable/generated/pandas.Series.html#pandas.Series) de este objeto."
   ]
  },
  {
   "cell_type": "code",
   "execution_count": null,
   "metadata": {
    "colab": {},
    "colab_type": "code",
    "id": "dcF1QRdJ0hHD",
    "outputId": "e1fc1c18-87ed-46f6-987c-5230b04b7889"
   },
   "outputs": [],
   "source": [
    "print(\"Média:\", notas.mean())\n",
    "print(\"Desvio padrão:\", notas.std())"
   ]
  },
  {
   "cell_type": "markdown",
   "metadata": {
    "colab_type": "text",
    "id": "FSRFB1c20hHI"
   },
   "source": [
    "Por lo general, para resumir brevemente las estadísticas de datos, use `.describe ()`"
   ]
  },
  {
   "cell_type": "code",
   "execution_count": null,
   "metadata": {
    "colab": {},
    "colab_type": "code",
    "id": "_bqMB_5_0hHJ",
    "outputId": "f45103a6-c05b-4161-fc21-c111dc792b07"
   },
   "outputs": [],
   "source": [
    "notas.describe()"
   ]
  },
  {
   "cell_type": "markdown",
   "metadata": {
    "colab_type": "text",
    "id": "iLdBoH3G0hHN"
   },
   "source": [
    "La estructura es lo suficientemente flexible como para aplicar algunas expresiones matemáticas y las funciones matemáticas de numpy directamente:"
   ]
  },
  {
   "cell_type": "code",
   "execution_count": null,
   "metadata": {
    "colab": {},
    "colab_type": "code",
    "id": "W-eghO_m0hHO",
    "outputId": "a951c670-844f-4121-d6d4-e7b1262f3fb5"
   },
   "outputs": [],
   "source": [
    "notas**2"
   ]
  },
  {
   "cell_type": "code",
   "execution_count": null,
   "metadata": {
    "colab": {},
    "colab_type": "code",
    "id": "YIWXCn2A0hHS",
    "outputId": "0f3916e4-b8ee-4595-9d41-8465d3778217"
   },
   "outputs": [],
   "source": [
    "np.log(notas)"
   ]
  },
  {
   "cell_type": "markdown",
   "metadata": {
    "colab_type": "text",
    "id": "rbHa2aBd0hHX"
   },
   "source": [
    "Un DataFrame es una estructura de datos bidimensional, como una hoja de cálculo. A continuación, crearemos un DataFrame que tenga valores de diferentes tipos, utilizando un diccionario como entrada de datos:"
   ]
  },
  {
   "cell_type": "code",
   "execution_count": null,
   "metadata": {
    "colab": {},
    "colab_type": "code",
    "id": "KI9-bVs90hHY",
    "outputId": "f17f213d-a9a0-41d4-86ab-6f0fba4c5674"
   },
   "outputs": [],
   "source": [
    "df = pd.DataFrame({'Aluno' : [\"Wilfred\", \"Abbie\", \"Harry\", \"Julia\", \"Carrie\"],\n",
    "                   'Faltas' : [3,4,2,1,4],\n",
    "                   'Prova' : [2,7,5,10,6],\n",
    "                   'Seminário': [8.5,7.5,9.0,7.5,8.0]})\n",
    "df"
   ]
  },
  {
   "cell_type": "markdown",
   "metadata": {
    "colab_type": "text",
    "id": "vw23-Eth0hHc"
   },
   "source": [
    "Los tipos de datos que componen las columnas se pueden verificar con el método `.dtypes`:"
   ]
  },
  {
   "cell_type": "code",
   "execution_count": null,
   "metadata": {
    "colab": {},
    "colab_type": "code",
    "id": "3_T-HnqB0hHd",
    "outputId": "92b1c1b3-9027-4720-c99d-eb045b8a3018"
   },
   "outputs": [],
   "source": [
    "df.dtypes"
   ]
  },
  {
   "cell_type": "markdown",
   "metadata": {
    "colab_type": "text",
    "id": "d2aBTxl00hHh"
   },
   "source": [
    "Puede acceder a la lista de columnas de manera muy intuitiva:"
   ]
  },
  {
   "cell_type": "code",
   "execution_count": null,
   "metadata": {
    "colab": {},
    "colab_type": "code",
    "id": "7hrBXNkN0hHi",
    "outputId": "bf60be00-e994-4b25-9c90-873bd7a0152d"
   },
   "outputs": [],
   "source": [
    "df.columns"
   ]
  },
  {
   "cell_type": "markdown",
   "metadata": {
    "colab_type": "text",
    "id": "9FW7gdko0hHm"
   },
   "source": [
    "Los nombres de columna se pueden usar para acceder a sus valores:"
   ]
  },
  {
   "cell_type": "code",
   "execution_count": null,
   "metadata": {
    "colab": {},
    "colab_type": "code",
    "id": "DAaZE4K80hHo",
    "outputId": "d81099bc-3f6e-4f74-fdc6-32a8fc504995"
   },
   "outputs": [],
   "source": [
    "df[\"Seminário\"]"
   ]
  },
  {
   "cell_type": "markdown",
   "metadata": {
    "colab_type": "text",
    "id": "YJ5DG4650hHs"
   },
   "source": [
    "Para DataFrames, `.describe()` tambiém es una buena forma de verificar resumidamente la disposición estadística de los dados numéricos:"
   ]
  },
  {
   "cell_type": "code",
   "execution_count": null,
   "metadata": {
    "colab": {},
    "colab_type": "code",
    "id": "4lqaJ71X0hHu",
    "outputId": "9b960771-b223-4f1e-9daf-086675e79694"
   },
   "outputs": [],
   "source": [
    "df.describe()"
   ]
  },
  {
   "cell_type": "markdown",
   "metadata": {
    "colab_type": "text",
    "id": "T15KyMAu0hHy"
   },
   "source": [
    "Otra tarea común aplicada a DataFrames es ordenarlos por una columna dada:"
   ]
  },
  {
   "cell_type": "code",
   "execution_count": null,
   "metadata": {
    "colab": {},
    "colab_type": "code",
    "id": "K6K6DCoz0hHz",
    "outputId": "cc945260-9dd9-4a31-f454-c41ed1a16639"
   },
   "outputs": [],
   "source": [
    "df.sort_values(by=\"Seminário\")"
   ]
  },
  {
   "cell_type": "markdown",
   "metadata": {
    "colab_type": "text",
    "id": "_gIh-N620hH6"
   },
   "source": [
    "Tenga en cuenta que el simple uso del método `sort_values` no modifica nuestro DataFrame original:"
   ]
  },
  {
   "cell_type": "code",
   "execution_count": null,
   "metadata": {
    "colab": {},
    "colab_type": "code",
    "id": "_0zWAqAJ0hH-",
    "outputId": "991470b8-9152-4ab0-e4e6-ad0262f2b09c"
   },
   "outputs": [],
   "source": [
    "df"
   ]
  },
  {
   "cell_type": "markdown",
   "metadata": {
    "colab_type": "text",
    "id": "ypXCe1NH0hIC"
   },
   "source": [
    "A menudo necesitamos seleccionar valores específicos de un DataFrame, ya sea una fila o celda específica, y esto se puede hacer de muchas maneras. La documentación oficial contiene [vasta información] (https://pandas.pydata.org/pandas-docs/stable/indexing.html#indexing) para este tipo de tarea, aquí nos centraremos en las formas más comunes de seleccionar datos."
   ]
  },
  {
   "cell_type": "markdown",
   "metadata": {
    "colab_type": "text",
    "id": "G63ezIlS0hID"
   },
   "source": [
    "Para seleccionar por índice o etiqueta usamos el atributo `.loc`:"
   ]
  },
  {
   "cell_type": "code",
   "execution_count": null,
   "metadata": {
    "colab": {},
    "colab_type": "code",
    "id": "E0ONHm_20hIE",
    "outputId": "1d159d88-0f02-4d03-c75a-ea1d4dc74df0"
   },
   "outputs": [],
   "source": [
    "df.loc[3]"
   ]
  },
  {
   "cell_type": "markdown",
   "metadata": {
    "colab_type": "text",
    "id": "ijffZlQJ0hII"
   },
   "source": [
    "Para seleccionar de acuerdo con criterios condicionales, se usa lo que se llama de **Boolean Indexing**.\n",
    "\n",
    "Supongamos que solo queremos seleccionar filas donde el valor de la columna *Seminario* esté por encima de 8.0, podemos lograr esto pasando la condición directamente como un índice:"
   ]
  },
  {
   "cell_type": "code",
   "execution_count": null,
   "metadata": {
    "colab": {},
    "colab_type": "code",
    "id": "3XUNB0nZ0hIK",
    "outputId": "b436cedd-3353-42bc-8366-35a31ae2573e"
   },
   "outputs": [],
   "source": [
    "df[df[\"Seminário\"] > 8.0]"
   ]
  },
  {
   "cell_type": "markdown",
   "metadata": {
    "colab_type": "text",
    "id": "ocSeevNY0hIO"
   },
   "source": [
    "Este tipo de indexación tambiém posibilita verificar condiciones de múltiples columnas. Diferente de lo que estamos habituados en Python, aqui se usan operadores `bitwise`, o sea, `&`, `|`, `~` en vez de operadores logicos `and`, `or`, `not`, respectivamente. Suponga que además de `df[\"Seminário\"] > 8.0` queremos que el valor de la columna `Prova` no sea menor que 3:"
   ]
  },
  {
   "cell_type": "code",
   "execution_count": null,
   "metadata": {
    "colab": {},
    "colab_type": "code",
    "id": "lfP7O60N0hIP",
    "outputId": "9e5d3458-965d-45fe-9516-00e1bc9c4a5e"
   },
   "outputs": [],
   "source": [
    "df[(df[\"Seminário\"] > 8.0) & (df[\"Prova\"] > 3)]"
   ]
  },
  {
   "cell_type": "markdown",
   "metadata": {},
   "source": [
    "## Analizando datos externos"
   ]
  },
  {
   "cell_type": "code",
   "execution_count": null,
   "metadata": {},
   "outputs": [],
   "source": []
  },
  {
   "cell_type": "markdown",
   "metadata": {
    "colab_type": "text",
    "id": "CWbNc_Vj0hIT"
   },
   "source": [
    "En la sección anterior vimos cómo manipular los datos que se crearon durante esta presentación, sucede que la mayoría de las veces queremos analizar datos que ya están listos y provienen de archivos.\n",
    "Pandas nos proporciona una serie de características de lectura de datos, para una variedad de formatos de datos estructurales, intente `pd.read_ <TAB>` autocompletado, que incluye:\n",
    "\n",
    " 1. `pd.read_csv`, para leer arquivos .csv, formato comun para almacenar datos de tablas\n",
    " 1. `pd.read_xlsx`, para leer arquivos Excel .xlsx, es necesário instalar una biblioteca adicional para esta funcionalidad.\n",
    " 1. `pd.read_html`, para leer tablas directamente de un website\n",
    " \n",
    "Usaremos para analizar datos externos en esta introducción el `.read_csv`, porque aquí es donde están nuestros datos CSV, o valores separados por comas, es un formato de datos abiertos muy común, como sugiere el acrónimo, estos son valores separados por comas, aunque el carácter separador puede ser un punto y coma u otro.\n",
    "\n",
    "Cuando el archivo `dados.csv` está en el mismo directorio del script, podemos pasar como argumento de `.read_csv` apenas su nombre. Otro argumento interesante de la función es el `sep`, que por padrón es una coma, pero puede ser definido como otro caracter caso los datos usen otro separador.\n",
    "\n",
    "Los datos que usaremos como ejemplo son datos sobre precios de apartamentos en 7 barrios de la ciudad de Rio de Janeiro: Botafogo, Copacabana, Gávea, Grajaú, Ipanema, Leblon, Tijuca. Son datos adaptados de un archivo que puede ser encontrado [aqui](https://www.kaggle.com/rbarbera/rio-brasil-modelo-preditivo-precos-imoveis/data)."
   ]
  },
  {
   "cell_type": "code",
   "execution_count": null,
   "metadata": {
    "colab": {},
    "colab_type": "code",
    "id": "k6aWNjg10hIU",
    "outputId": "b93c2dfa-29f7-4975-da51-afa904b6658e"
   },
   "outputs": [],
   "source": [
    "df = pd.read_csv(\"data/datos.csv\", sep=',')\n",
    "df"
   ]
  },
  {
   "cell_type": "markdown",
   "metadata": {
    "colab_type": "text",
    "id": "PZCsEFHW0hIY"
   },
   "source": [
    "Como esperado, el DataFrame tiene muichas líneas de datos, para visualizar resumidamente las primeras líneas de un DataFrame existe el método `.head()`"
   ]
  },
  {
   "cell_type": "code",
   "execution_count": null,
   "metadata": {
    "colab": {},
    "colab_type": "code",
    "id": "oLoRU7fQ0hIZ",
    "outputId": "b9791119-8c89-4db6-e87d-f54929bdd07f"
   },
   "outputs": [],
   "source": [
    "df.head()"
   ]
  },
  {
   "cell_type": "markdown",
   "metadata": {
    "colab_type": "text",
    "id": "W2LcnoAF0hId"
   },
   "source": [
    "Por padrón `.head()` exhibe las 5 primeras líneas, pero eso puede ser alterado:"
   ]
  },
  {
   "cell_type": "code",
   "execution_count": null,
   "metadata": {
    "colab": {},
    "colab_type": "code",
    "id": "mto6wmCM0hIe",
    "outputId": "18aa61c5-a426-476f-a41e-2b1967340398"
   },
   "outputs": [],
   "source": [
    "df.head(n=10)"
   ]
  },
  {
   "cell_type": "markdown",
   "metadata": {
    "colab_type": "text",
    "id": "BRMJzNjQ0hIj"
   },
   "source": [
    "Similarmente existe `.tail()`, que exhibe por padrón las últimas 5 líneas del DataFrame:"
   ]
  },
  {
   "cell_type": "code",
   "execution_count": null,
   "metadata": {
    "colab": {},
    "colab_type": "code",
    "id": "GwJ8PG8B0hIk",
    "outputId": "da3dca32-10a2-4a77-e397-cced65b857fc"
   },
   "outputs": [],
   "source": [
    "df.tail()"
   ]
  },
  {
   "cell_type": "markdown",
   "metadata": {
    "colab_type": "text",
    "id": "H8gaISxM0hIp"
   },
   "source": [
    "Además se puede verificar la información contenida en el archivo utilizando un método que enumera valores únicos en una columna:"
   ]
  },
  {
   "cell_type": "code",
   "execution_count": null,
   "metadata": {
    "colab": {},
    "colab_type": "code",
    "id": "G4JXCVQ10hIq",
    "outputId": "90238a1d-ab0f-443b-abaa-dbbfe2c625bd"
   },
   "outputs": [],
   "source": [
    "df[\"barrio\"].unique()"
   ]
  },
  {
   "cell_type": "markdown",
   "metadata": {
    "colab_type": "text",
    "id": "0N4ffCwh0hIu"
   },
   "source": [
    "También parece interesante verificar la hegemonía de nuestra muestra en relación con los barrios. Para las tareas de contar valores, siempre podemos aprovechar otro método disponible, el `.value_counts()`, tambiém veremos un poco mas abajo como visualizar estos valores en forma de gráfico de barras."
   ]
  },
  {
   "cell_type": "code",
   "execution_count": null,
   "metadata": {
    "colab": {},
    "colab_type": "code",
    "id": "Ye1-h5OY0hIv",
    "outputId": "83927d9b-6793-4350-f4fc-41a1be3c7916"
   },
   "outputs": [],
   "source": [
    "df[\"barrio\"].value_counts()"
   ]
  },
  {
   "cell_type": "markdown",
   "metadata": {
    "colab_type": "text",
    "id": "vrOLNrVv0hI0"
   },
   "source": [
    "Los valores contados también se pueden normalizar para expresar porcentajes:"
   ]
  },
  {
   "cell_type": "code",
   "execution_count": null,
   "metadata": {
    "colab": {},
    "colab_type": "code",
    "id": "9_JjU0-M0hI1",
    "outputId": "d0d4f6ee-15d8-4b37-bdc9-e02a03f2200a"
   },
   "outputs": [],
   "source": [
    "df[\"barrio\"].value_counts(normalize=True)"
   ]
  },
  {
   "cell_type": "markdown",
   "metadata": {
    "colab_type": "text",
    "id": "vJ9sgABQ0hI4"
   },
   "source": [
    "Agrupar datos basados en ciertos criterios es otro proceso que pandas facilita con `.groupby()`.\n",
    "Este método pode ser usado para resolver los mas **amplios** problemas, aqui un ejemplo de como usar el agrupamento simple, la división de un DataFrame en grupos.\n",
    "\n",
    "Abajo agrupamos nuestro DataFrame por los valores de la columna `\"bairro\"`, y luego aplicamos `.mean()` para tener un objeto GroupBy con información de las médias agrupadas por los valores de la columna bairros. "
   ]
  },
  {
   "cell_type": "code",
   "execution_count": null,
   "metadata": {
    "colab": {},
    "colab_type": "code",
    "id": "WUQQUIMA0hI5",
    "outputId": "6f3be968-879b-4e59-cb52-b9427ef54a2e"
   },
   "outputs": [],
   "source": [
    "df.groupby(\"barrio\").mean()"
   ]
  },
  {
   "cell_type": "markdown",
   "metadata": {
    "colab_type": "text",
    "id": "ovVpIM0E0hI9"
   },
   "source": [
    "Para extraer datos de una columna de este objeto, simplemente acceda a ella de manera convencional, para obtener los valores del precio promedio del metro cuadrado en orden ascendente, por ejemplo:"
   ]
  },
  {
   "cell_type": "code",
   "execution_count": null,
   "metadata": {
    "colab": {},
    "colab_type": "code",
    "id": "YGV1ROy_0hI-",
    "outputId": "22d1c12a-667e-4984-a1d2-74e0eb827f32"
   },
   "outputs": [],
   "source": [
    "df.groupby(\"barrio\").mean()[\"pm2\"].sort_values()"
   ]
  },
  {
   "cell_type": "markdown",
   "metadata": {
    "colab_type": "text",
    "id": "TGgqw-F00hJB"
   },
   "source": [
    "Podemos aplicar una función cualquiera a los datos, o a una parte de ellos, en este caso pandas ofrece el método `.apply`. Por ejemplo, para dejar los nombres de los barrios con apenas sus tres primeras letras:"
   ]
  },
  {
   "cell_type": "code",
   "execution_count": null,
   "metadata": {
    "colab": {},
    "colab_type": "code",
    "id": "5rR8HBYM0hJC",
    "outputId": "6b187112-307e-456c-c451-c98359c01e87"
   },
   "outputs": [],
   "source": [
    "def truncar(barrio):\n",
    "    return barrio[:3]\n",
    "\n",
    "df[\"barrio\"].apply(truncar)"
   ]
  },
  {
   "cell_type": "markdown",
   "metadata": {
    "colab_type": "text",
    "id": "7Gw8ZSUM0hJF"
   },
   "source": [
    "Otra forma es usar la función lambda:"
   ]
  },
  {
   "cell_type": "code",
   "execution_count": null,
   "metadata": {
    "colab": {},
    "colab_type": "code",
    "id": "nqTWvIZM0hJG",
    "outputId": "708392b0-e7a8-4cbc-b498-36a4a5317856"
   },
   "outputs": [],
   "source": [
    "df[\"barrio\"].apply(lambda x: x[:3])"
   ]
  },
  {
   "cell_type": "markdown",
   "metadata": {
    "colab_type": "text",
    "id": "8rTlGW0R0hJK"
   },
   "source": [
    "Una de las tareas en la cual pandas es reconocidamente poderosa es la habilidad de tratar datos incompletos.\n",
    "Por muchos motivos puede haber datos incompletos en el dataset, `np.nan` es un valor especial definido en Numpy, sigla para Not a Number, pandas completa las células sin valores en un DataFrame usando `np.nan`.\n",
    "\n",
    "Vamos crear un nuevo dataframe usando las 5 primeras líneas del archivo original, usando `.head()`. Abajo es usado `.replace` para substituir un valor específico por un `NaN`. "
   ]
  },
  {
   "cell_type": "code",
   "execution_count": null,
   "metadata": {
    "colab": {},
    "colab_type": "code",
    "id": "QVNCUBYf0hJL",
    "outputId": "bc6fba07-a0b6-4ef5-e2ba-c187e68b67d9"
   },
   "outputs": [],
   "source": [
    "df2 = df.head()\n",
    "df2 = df2.replace({\"pm2\": {12031.25: np.nan}})\n",
    "df2"
   ]
  },
  {
   "cell_type": "markdown",
   "metadata": {
    "colab_type": "text",
    "id": "htChIzgI0hJR"
   },
   "source": [
    "Pandas simplifica la remoción de cualquier línea o coluna que posea un `np.nan`, por padrón `.dropna()` retorna las líneas que no contengan un NaN:"
   ]
  },
  {
   "cell_type": "code",
   "execution_count": null,
   "metadata": {
    "colab": {},
    "colab_type": "code",
    "id": "-U4Lgfq50hJT",
    "outputId": "cb144cee-5f2e-45fe-bc40-9aa70cfe8131"
   },
   "outputs": [],
   "source": [
    "df2.dropna()"
   ]
  },
  {
   "cell_type": "markdown",
   "metadata": {
    "colab_type": "text",
    "id": "Trf5XK4t0hJZ"
   },
   "source": [
    "Completar todos los valores NaN por outro valor específico tambiém es bastante simple:"
   ]
  },
  {
   "cell_type": "code",
   "execution_count": null,
   "metadata": {
    "colab": {},
    "colab_type": "code",
    "id": "F8hkh11j0hJa",
    "outputId": "0c35e384-f2c7-480e-b869-9760b0bfc189"
   },
   "outputs": [],
   "source": [
    "df2.fillna(99)"
   ]
  },
  {
   "cell_type": "markdown",
   "metadata": {
    "colab_type": "text",
    "id": "Q63Vml4M0hJd"
   },
   "source": [
    "Acaba siendo muchas veces conveniente tener un método que indica cuales valores de un dataframe son NaN e cuales no son:"
   ]
  },
  {
   "cell_type": "code",
   "execution_count": null,
   "metadata": {
    "colab": {},
    "colab_type": "code",
    "id": "V0bP8eKN0hJe",
    "outputId": "20f4aacc-5cf8-4edf-bb3b-ebe9e071d849"
   },
   "outputs": [],
   "source": [
    "df2.isna()"
   ]
  },
  {
   "cell_type": "markdown",
   "metadata": {
    "colab_type": "text",
    "id": "CDBFgHTm0hJi"
   },
   "source": [
    "# Visualización de dados com o pandas. \n",
    "Los métodos de visualización de pandas están construidos en matplotlib para una rápida exploración de datos. En esta introducción, veremos métodos de visualización incluidos en pandas, que, por otro lado, ofrecen una sintaxis bastante simple para realizar la tarea.\n",
    "\n",
    "Comencemos verificando que tanto Series como DataFrame poseen un método `.plot()` que tambiém es un atributo y puede ser encadenado para generar visualización de diversos tipos, como histograma, área, pizza y dispersión, usando respectivamente  `.hist()`, `.area()`, `.pie()` y  `.scatter()`, además de vários [outros](https://pandas.pydata.org/pandas-docs/stable/api.html#api-dataframe-plotting).\n",
    "\n",
    "Vamos verificar la distribución de los precios usando el encadenamiento `.plot.hist()`, el eje x, que es el precio, está en una escala de \\*10^7, como mostrado en la imágem:"
   ]
  },
  {
   "cell_type": "code",
   "execution_count": null,
   "metadata": {
    "colab": {},
    "colab_type": "code",
    "id": "Hf8CSq-U0hJi",
    "outputId": "ccb4dfe5-dc75-4b9e-a7e8-ebb2ce720bba"
   },
   "outputs": [],
   "source": [
    "df[\"precio\"].plot.hist()"
   ]
  },
  {
   "cell_type": "markdown",
   "metadata": {
    "colab_type": "text",
    "id": "bVadrl3D0hJl"
   },
   "source": [
    "Por padrón este método usa 10 bins, o sea, divide los datos en 10 partes, pero es claro que podemos especificar un valor para el trazado del gráfico. Abajo, además de especificar la cantidad de bins, tambiém especifique el color de los bordes como negro, ya que por padrón es transparente."
   ]
  },
  {
   "cell_type": "code",
   "execution_count": null,
   "metadata": {
    "colab": {},
    "colab_type": "code",
    "id": "HnocXEBH0hJm",
    "outputId": "78c65eb6-dc94-4a36-dde8-2866177dab25"
   },
   "outputs": [],
   "source": [
    "df[\"precio\"].plot.hist(bins=30, edgecolor='black')"
   ]
  },
  {
   "cell_type": "markdown",
   "metadata": {
    "colab_type": "text",
    "id": "gghTewkj0hJq"
   },
   "source": [
    "Podemos usar los valores de conteo de cada barrio como ejemplo de dato para un plot tanto de barras verticales como de barras horizontales, para verificar visualmente estos datos:"
   ]
  },
  {
   "cell_type": "code",
   "execution_count": null,
   "metadata": {
    "colab": {},
    "colab_type": "code",
    "id": "vNA4A3qk0hJu",
    "outputId": "aba7c9e5-2d02-4d5f-89bb-f8ceb23f2e3e"
   },
   "outputs": [],
   "source": [
    "df[\"barrio\"].value_counts().plot.bar()"
   ]
  },
  {
   "cell_type": "code",
   "execution_count": null,
   "metadata": {
    "colab": {},
    "colab_type": "code",
    "id": "NUeV7KS50hJx",
    "outputId": "b9d8d327-33a1-4948-aa85-ee3143cdc4c9"
   },
   "outputs": [],
   "source": [
    "df[\"barrio\"].value_counts().plot.barh()"
   ]
  },
  {
   "cell_type": "markdown",
   "metadata": {
    "colab_type": "text",
    "id": "zyjq58tV0hJ0"
   },
   "source": [
    "Los métodos son suficientemente flexíbles para aceptar argumentos como un título para la imagem:"
   ]
  },
  {
   "cell_type": "code",
   "execution_count": null,
   "metadata": {
    "colab": {},
    "colab_type": "code",
    "id": "ccWEZHdQ0hJ1",
    "outputId": "5d5d41f3-ff9a-4637-bf0f-bf9b468c42d6"
   },
   "outputs": [],
   "source": [
    "df[\"barrio\"].value_counts().plot.barh(title=\"Número de apartamentos\")"
   ]
  },
  {
   "cell_type": "markdown",
   "metadata": {
    "colab_type": "text",
    "id": "QBQivSXu0hJ4"
   },
   "source": [
    "Se puede usar un diagrama de dispersión usando un DataFrame especificando qué columnas usar como datos en los ejes x e y:"
   ]
  },
  {
   "cell_type": "code",
   "execution_count": null,
   "metadata": {
    "colab": {},
    "colab_type": "code",
    "id": "GmZk2R3l0hJ5",
    "outputId": "e0415287-0f17-437e-f46d-20e294149a61"
   },
   "outputs": [],
   "source": [
    "df.plot.scatter(x='precio', y='area')"
   ]
  },
  {
   "cell_type": "markdown",
   "metadata": {
    "colab_type": "text",
    "id": "rbWjI1Lk0hJ8"
   },
   "source": [
    "Con fines estéticos, matplotlib proporciona varios estilos diferentes que se pueden usar, uno de los cuales es ggplot."
   ]
  },
  {
   "cell_type": "code",
   "execution_count": null,
   "metadata": {
    "colab": {},
    "colab_type": "code",
    "id": "3o7GPm1u0hJ9"
   },
   "outputs": [],
   "source": [
    "plt.style.use('ggplot')"
   ]
  },
  {
   "cell_type": "markdown",
   "metadata": {
    "colab_type": "text",
    "id": "9p_jojL00hKA"
   },
   "source": [
    "Este estilo ahora se usará para todas las imágenes generadas después de esta línea."
   ]
  },
  {
   "cell_type": "code",
   "execution_count": null,
   "metadata": {
    "colab": {},
    "colab_type": "code",
    "id": "Nk-epUNL0hKC",
    "outputId": "ee8193ef-6328-4c0f-ace5-b687386afee3"
   },
   "outputs": [],
   "source": [
    "df.plot.scatter(x='pm2', y='area')"
   ]
  },
  {
   "cell_type": "markdown",
   "metadata": {
    "colab_type": "text",
    "id": "QadinADt0hKG"
   },
   "source": [
    "La lista de estilos disponíbles puede ser vista a través de un método propio"
   ]
  },
  {
   "cell_type": "code",
   "execution_count": null,
   "metadata": {
    "colab": {},
    "colab_type": "code",
    "id": "gArOEYUL0hKH",
    "outputId": "024cf9f8-1fb1-4d32-c5c6-10a3531fc7a8"
   },
   "outputs": [],
   "source": [
    "plt.style.available"
   ]
  },
  {
   "cell_type": "markdown",
   "metadata": {
    "colab_type": "text",
    "id": "mkEUJknl0hKK"
   },
   "source": [
    "La columna de cuartos le indica cuántas habitaciones tiene un apartamento en particular, también puede ver el recuento y la distribución utilizando otros métodos de trazado que ofrece pandas:"
   ]
  },
  {
   "cell_type": "code",
   "execution_count": null,
   "metadata": {
    "colab": {},
    "colab_type": "code",
    "id": "XowYc0wm0hKK",
    "outputId": "3dbb7182-e99b-475c-aee7-af658faabbc6"
   },
   "outputs": [],
   "source": [
    "df[\"cuartos\"].value_counts().plot.pie()"
   ]
  },
  {
   "cell_type": "markdown",
   "metadata": {
    "colab_type": "text",
    "id": "5adB8ltk0hKN"
   },
   "source": [
    "Una cosa a tener en cuenta sobre el gráfico de dispersión es la contaminación causada por la gran cantidad de datos agrupados en una esquina del gráfico, y podemos reducir el tamaño de los puntos al pasar el argumento `s` al método `.scatter`, también podemos usar un método de pandas que crea un muestreo aleatorio de datos.\n",
    "\n",
    "El método `.sample` puede recebir tanto un argumento `frac`, que determina una fracción de los itens que el método retornará (en el caso abajo, 10%), o `n`, que determina un valor absoluto de itens."
   ]
  },
  {
   "cell_type": "code",
   "execution_count": null,
   "metadata": {
    "colab": {},
    "colab_type": "code",
    "id": "rnZYIDre0hKO",
    "outputId": "cefa6081-d43e-4264-a3a6-dbe942169401"
   },
   "outputs": [],
   "source": [
    "df.plot.scatter(x='precio', y='area', s=.5)"
   ]
  },
  {
   "cell_type": "code",
   "execution_count": null,
   "metadata": {
    "colab": {},
    "colab_type": "code",
    "id": "ORmhjSCy0hKT",
    "outputId": "ad666823-ae7b-4059-8a76-1c6082fba246"
   },
   "outputs": [],
   "source": [
    "df.sample(frac=.1).plot.scatter(x='precio', y='area')"
   ]
  },
  {
   "cell_type": "markdown",
   "metadata": {
    "colab_type": "text",
    "id": "I5TdXqB90hKW"
   },
   "source": [
    "Finalmente, la tarea de salvar su DataFrame externamente para un formato específico es realizada con la misma simplicidad que la lectura de datos es realizada en pandas, se puede usar, por ejemplo, el método `to_csv`, y el archivo será creado con los datos del DataFrame:"
   ]
  },
  {
   "cell_type": "code",
   "execution_count": null,
   "metadata": {
    "colab": {},
    "colab_type": "code",
    "id": "zbySNqIY0hKc"
   },
   "outputs": [],
   "source": [
    "df = pd.DataFrame({'Aluno' : [\"Wilfred\", \"Abbie\", \"Harry\", \"Julia\", \"Carrie\"],\n",
    "                   'Faltas' : [3,4,2,1,4],\n",
    "                   'Prova' : [2,7,5,10,6],\n",
    "                   'Seminário': [8.5,7.5,9.0,7.5,8.0]})\n",
    "df.to_csv(\"aulas.csv\")"
   ]
  },
  {
   "cell_type": "code",
   "execution_count": null,
   "metadata": {
    "colab": {},
    "colab_type": "code",
    "id": "O-COX7Vr0hKg",
    "outputId": "6634650e-ce48-4fb5-bb74-ffcbc9fabe41"
   },
   "outputs": [],
   "source": [
    "pd.read_csv(\"aulas.csv\")"
   ]
  }
 ],
 "metadata": {
  "colab": {
   "collapsed_sections": [],
   "name": "Introducción a Pandas.ipynb",
   "provenance": []
  },
  "kernelspec": {
   "display_name": "Python 3",
   "language": "python",
   "name": "python3"
  },
  "language_info": {
   "codemirror_mode": {
    "name": "ipython",
    "version": 3
   },
   "file_extension": ".py",
   "mimetype": "text/x-python",
   "name": "python",
   "nbconvert_exporter": "python",
   "pygments_lexer": "ipython3",
   "version": "3.7.4"
  }
 },
 "nbformat": 4,
 "nbformat_minor": 1
}
