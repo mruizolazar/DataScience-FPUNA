{
 "cells": [
  {
   "cell_type": "markdown",
   "metadata": {},
   "source": [
    "# Ayuda y Documentación en IPython/Jupyter"
   ]
  },
  {
   "cell_type": "markdown",
   "metadata": {},
   "source": [
    "Una de las funciones más útiles de IPython/Jupyter es acortar la brecha entre el usuario y el tipo de documentación y búsqueda que los ayudará a hacer su trabajo de manera efectiva. Si bien las búsquedas en la web siguen desempeñando un papel en la respuesta de preguntas complicadas, en IPython puede encontrar una cantidad sorprendente de información. Algunos ejemplos de las preguntas que IPython puede ayudar a responder con unas pocas teclas:\n",
    "\n",
    "- ¿Cómo llamo a esta función? ¿Qué argumentos y opciones tiene?\n",
    "- ¿Cómo se ve el código fuente de este objeto Python?\n",
    "- ¿Qué hay en este paquete que importé? ¿Qué atributos o métodos tiene este objeto?\n",
    "\n",
    "Aquí discutiremos las herramientas de IPython para acceder rápidamente a esta información,  el caracter ? para explorar la documentación, los caracteres ?? para explorar el código fuente y la tecla Tab para completar automáticamente."
   ]
  },
  {
   "cell_type": "markdown",
   "metadata": {},
   "source": [
    "## Acediendo a Documentacion con ``?``\n",
    "\n",
    "El lenguaje Python y su ecosistema de ciencia de datos se construye teniendo en cuenta al usuario, y una gran parte de eso es el acceso a la documentación.\n",
    "Cada objeto de Python contiene la referencia a una cadena, conocida como *doc string*, que en la mayoría de los casos contendrá un resumen conciso del objeto y cómo usarlo.\n",
    "Python tiene una función incorporada de ``help()`` que puede acceder a esta información e imprime los resultados.\n",
    "Por ejemplo, para ver la documentación de la función ``len``, puede hacer lo siguiente:\n",
    "\n",
    "```ipython\n",
    "In [1]: help(len)\n",
    "Help on built-in function len in module builtins:\n",
    "\n",
    "len(...)\n",
    "    len(object) -> integer\n",
    "    \n",
    "    Return the number of items of a sequence or mapping.\n",
    "```\n",
    "\n",
    "Dependiendo de su intérprete, esta información puede mostrarse como texto en línea o en una ventana emergente separada."
   ]
  },
  {
   "cell_type": "markdown",
   "metadata": {},
   "source": [
    "Debido a que encontrar ayuda en un objeto es tan común y útil, IPython presenta el carácter  ``?`` Como una forma abreviada de acceder a esta documentación y otra información relevante:\n",
    "\n",
    "```ipython\n",
    "In [2]: len?\n",
    "Type:        builtin_function_or_method\n",
    "String form: <built-in function len>\n",
    "Namespace:   Python builtin\n",
    "Docstring:\n",
    "len(object) -> integer\n",
    "\n",
    "Return the number of items of a sequence or mapping.\n",
    "```"
   ]
  },
  {
   "cell_type": "markdown",
   "metadata": {},
   "source": [
    "Esta notación funciona para casi cualquier cosa, incluidos los métodos de objeto:\n",
    "\n",
    "```ipython\n",
    "In [3]: L = [1, 2, 3]\n",
    "In [4]: L.insert?\n",
    "Type:        builtin_function_or_method\n",
    "String form: <built-in method insert of list object at 0x1024b8ea8>\n",
    "Docstring:   L.insert(index, object) -- insert object before index\n",
    "```\n",
    "\n",
    "o incluso objetos en sí, con la documentación de su tipo:\n",
    "\n",
    "```ipython\n",
    "In [5]: L?\n",
    "Type:        list\n",
    "String form: [1, 2, 3]\n",
    "Length:      3\n",
    "Docstring:\n",
    "list() -> new empty list\n",
    "list(iterable) -> new list initialized from iterable's items\n",
    "```"
   ]
  },
  {
   "cell_type": "markdown",
   "metadata": {},
   "source": [
    "Es importante destacar que ¡esto incluso funcionará para funciones u otros objetos que cree usted mismo!\n",
    "Aquí definiremos una pequeña función con un docstring:\n",
    "\n",
    "```ipython\n",
    "In [6]: def square(a):\n",
    "  ....:     \"\"\"Return the square of a.\"\"\"\n",
    "  ....:     return a ** 2\n",
    "  ....:\n",
    "```\n",
    "\n",
    "Tenga en cuenta que para crear una cadena de documentación para nuestra función, simplemente colocamos un literal de cadena en la primera línea.\n",
    "Debido a que las cadenas de documentos son generalmente líneas múltiples, por convención usamos la notación de comillas triples de Python para cadenas de líneas múltiples."
   ]
  },
  {
   "cell_type": "markdown",
   "metadata": {},
   "source": [
    "Usaremos el carácter ``?`` para encontrar el doc string:\n",
    "\n",
    "```ipython\n",
    "In [7]: square?\n",
    "Type:        function\n",
    "String form: <function square at 0x103713cb0>\n",
    "Definition:  square(a)\n",
    "Docstring:   Return the square of a.\n",
    "```\n",
    "\n",
    "¡Este acceso rápido a la documentación a través de las cadenas de documentos es una de las razones por las que debe acostumbrarse a agregar siempre dicha documentación en línea al código que escribe!"
   ]
  },
  {
   "cell_type": "markdown",
   "metadata": {},
   "source": [
    "## Accediendo al código fuente con ``??``\n",
    "Debido a que el lenguaje Python es tan fácil de leer, generalmente se puede obtener otro nivel de conocimiento leyendo el código fuente del objeto que le interesa.\n",
    "IPython proporciona un acceso directo al código fuente con el doble signo de interrogación (`` ?? ``):\n",
    "\n",
    "```ipython\n",
    "In [8]: square??\n",
    "Type:        function\n",
    "String form: <function square at 0x103713cb0>\n",
    "Definition:  square(a)\n",
    "Source:\n",
    "def square(a):\n",
    "    \"Return the square of a\"\n",
    "    return a ** 2\n",
    "```\n",
    "\n",
    "Para funciones simples como esta, el doble signo de interrogación puede dar una idea rápida de los detalles de la función."
   ]
  },
  {
   "cell_type": "markdown",
   "metadata": {},
   "source": [
    "A veces el sufijo ``??`` no muestra ningún código fuente: esto generalmente se debe a que el objeto en cuestión no está implementado en Python, sino en C u otro Lenguaje compilado.\n",
    "Si este es el caso, el sufijo `` ?? `` da la misma salida que el sufijo ``?``.\n",
    "Encontrarás esto particularmente con muchos de los objetos y tipos incorporados de Python, por ejemplo, ``len``:\n",
    "\n",
    "```ipython\n",
    "In [9]: len??\n",
    "Type:        builtin_function_or_method\n",
    "String form: <built-in function len>\n",
    "Namespace:   Python builtin\n",
    "Docstring:\n",
    "len(object) -> integer\n",
    "\n",
    "Return the number of items of a sequence or mapping.\n",
    "```\n",
    "\n",
    "El uso de ``? `` y/o `` ?? `` proporciona una interfaz potente y rápida para encontrar información sobre lo que hace cualquier función o módulo de Python."
   ]
  },
  {
   "cell_type": "markdown",
   "metadata": {},
   "source": [
    "## Explorando Modulos con Tab-Completion\n",
    "\n",
    "Otra interfaz útil de IPython es el uso de la tecla de tabulación para autocompletar y explorar el contenido de objetos, módulos y espacios de nombres.\n",
    "En los ejemplos que siguen, usaremos `` <TAB> `` para indicar cuándo se debe presionar la tecla Tab."
   ]
  },
  {
   "cell_type": "markdown",
   "metadata": {},
   "source": [
    "### Tab-completion del contenido de objectos\n",
    "\n",
    "Cada objeto de Python tiene varios atributos y métodos asociados.Al igual que con la función ``help`` discutida anteriormente, Python tiene una función `` dir`` que devuelve una lista, pero la interfaz de tab-completion es mucho más fácil de usar en la práctica.\n",
    "Para ver una lista de todos los atributos disponibles de un objeto, puede escribir el nombre del objeto seguido de un carácter de punto (\"``.``\") y la tecla Tabulador:\n",
    "\n",
    "```ipython\n",
    "In [10]: L.<TAB>\n",
    "L.append   L.copy     L.extend   L.insert   L.remove   L.sort     \n",
    "L.clear    L.count    L.index    L.pop      L.reverse  \n",
    "```\n",
    "\n",
    "Para limitar la lista, puede escribir el primer carácter o varios caracteres del nombre, y la tecla Tab buscará los atributos y métodos coincidentes:\n",
    "\n",
    "```ipython\n",
    "In [10]: L.c<TAB>\n",
    "L.clear  L.copy   L.count  \n",
    "\n",
    "In [10]: L.co<TAB>\n",
    "L.copy   L.count \n",
    "```\n",
    "\n",
    "Si solo hay una opción, presionar la tecla Tab completará la línea.\n",
    "Por ejemplo, lo siguiente será reemplazado instantáneamente con ``L.count``:\n",
    "\n",
    "```ipython\n",
    "In [10]: L.cou<TAB>\n",
    "\n",
    "```\n",
    "\n",
    "Aunque Python no tiene una distinción estrictamente forzada entre los atributos públicos/externos y los atributos privados/internos, por convención se utiliza un guión bajo para denotar tales métodos.\n",
    "Para mayor claridad, estos métodos privados y métodos especiales se omiten de la lista de forma predeterminada, pero es posible enumerarlos escribiendo explícitamente el guión bajo:\n",
    "\n",
    "```ipython\n",
    "In [10]: L._<TAB>\n",
    "L.__add__           L.__gt__            L.__reduce__\n",
    "L.__class__         L.__hash__          L.__reduce_ex__\n",
    "```\n",
    "\n",
    "Por brevedad, solo hemos mostrado las primeras dos líneas de la salida.\n",
    "La mayoría de estos son métodos especiales de doble subrayado de Python (a menudo denominados métodos \"dunder\")."
   ]
  },
  {
   "cell_type": "markdown",
   "metadata": {},
   "source": [
    "### Uso de Tab para completar, cuando importamos alguna librería\n",
    "*Tab completion* también es útil al importar objetos desde paquetes.\n",
    "Aquí lo usaremos para encontrar todas las importaciones posibles en el paquete `` itertools `` que comienzan con ``co``:\n",
    "\n",
    "```\n",
    "In [10]: from itertools import co<TAB>\n",
    "combinations                   compress\n",
    "combinations_with_replacement  count\n",
    "```\n",
    "Del mismo modo, puede usar *tab-completion* para ver qué importaciones están disponibles en su sistema (esto cambiará dependiendo de qué scripts y módulos de terceros estén visibles para su sesión de Python):\n",
    "```\n",
    "In [10]: import <TAB>\n",
    "Display all 399 possibilities? (y or n)\n",
    "Crypto              dis                 py_compile\n",
    "Cython              distutils           pyclbr\n",
    "...                 ...                 ...\n",
    "difflib             pwd                 zmq\n",
    "\n",
    "In [10]: import h<TAB>\n",
    "hashlib             hmac                http         \n",
    "heapq               html                husl         \n",
    "```\n",
    "(Tenga en cuenta que, por brevedad, no imprimí aquí todos los 399 paquetes y módulos importables en mi sistema)."
   ]
  },
  {
   "cell_type": "markdown",
   "metadata": {},
   "source": [
    "### Más allá del tab completion: coincidencia de comodines (wildcard matching)\n",
    "\n",
    "El *tab completion* es útil si conoce los primeros caracteres del objeto o atributo que está buscando, pero es de poca ayuda si desea unir caracteres en el medio o al final de la palabra.\n",
    "Para este caso de uso, IPython proporciona un medio de coincidencia de comodines para nombres que usan el carácter `` * ``.\n",
    "Por ejemplo, podemos usar esto para enumerar cada objeto en el espacio de nombres que termina con ``Warning``:\n",
    "\n",
    "```ipython\n",
    "In [10]: *Warning?\n",
    "BytesWarning                  RuntimeWarning\n",
    "DeprecationWarning            SyntaxWarning\n",
    "FutureWarning                 UnicodeWarning\n",
    "ImportWarning                 UserWarning\n",
    "PendingDeprecationWarning     Warning\n",
    "ResourceWarning\n",
    "```\n",
    "\n",
    "Note que el caracter ``*`` simboliza cualquier string, incluyendo el string vacío.\n",
    "\n",
    "Así mismo, suponga que estamos buscando un método string que con tiene la palabra ``find`` en algún lugar de su nombre.\n",
    "Podemos buscar de esta forma:\n",
    "\n",
    "```ipython\n",
    "In [10]: str.*find*?\n",
    "str.find\n",
    "str.rfind\n",
    "```"
   ]
  }
 ],
 "metadata": {
  "anaconda-cloud": {},
  "kernelspec": {
   "display_name": "Python 3",
   "language": "python",
   "name": "python3"
  },
  "language_info": {
   "codemirror_mode": {
    "name": "ipython",
    "version": 3
   },
   "file_extension": ".py",
   "mimetype": "text/x-python",
   "name": "python",
   "nbconvert_exporter": "python",
   "pygments_lexer": "ipython3",
   "version": "3.7.4"
  }
 },
 "nbformat": 4,
 "nbformat_minor": 1
}
